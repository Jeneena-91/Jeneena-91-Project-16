{
 "cells": [
  {
   "cell_type": "markdown",
   "metadata": {},
   "source": [
    "# Title : Client Churn Prediction for Interconnect Telecom"
   ]
  },
  {
   "cell_type": "markdown",
   "metadata": {},
   "source": [
    "## Introduction : \n",
    "The telecom operator Interconnect would like to be able to forecast their churn of clients. If it's discovered that a user is planning to leave, they will be offered promotional codes and special plan options. Interconnect's marketing team has collected some of their clientele's personal data, including information about their plans and contracts.\n",
    "\n",
    "Interconnect's services\n",
    "\n",
    "Interconnect mainly provides two types of services:\n",
    "- Landline communication - The telephone can be connected to several lines simultaneously.\n",
    "- Internet - The network can be set up via a telephone line (DSL, digital subscriber line) or through a fiber optic cable.\n",
    "Some other services the company provides include:\n",
    "* Internet security: antivirus software (DeviceProtection) and a malicious website blocker (OnlineSecurity)\n",
    "* A dedicated technical support line (TechSupport)\n",
    "* Cloud file storage and data backup (OnlineBackup)\n",
    "* TV streaming (StreamingTV) and a movie directory (StreamingMovies)\n",
    "\n",
    "The clients can choose either a monthly payment or sign a 1- or 2-year contract. They can use various payment methods and receive an electronic invoice after a transaction.\n",
    "\n",
    "### Business Problem Statement : \n",
    "Interconnect wants to forecast the client churn.\n",
    "### Business Value : \n",
    "Interconnect wants to forecast client churn in order to proactively retain customers by offering promotions or customized plans.\n",
    "### Objectives :\n",
    "    - Predict if a customer is at risk of leaving\n",
    "    - Use model predictions to support market\n",
    "    - Primary Key Performance Indicator : Maximize AUC ROC\n",
    "    - Secondary Key Performance Indicator : Maintain high ACCURACY for stakeholder interpretability."
   ]
  },
  {
   "cell_type": "markdown",
   "metadata": {},
   "source": [
    "## Data Understanding:\n",
    "\n",
    "Objectives:\n",
    "- Load the dataset\n",
    "- Explore the data\n",
    "  \n",
    "Available datasets from different sources:\n",
    "- contract.csv — contract information\n",
    "- personal.csv — the client's personal data\n",
    "- internet.csv — information about Internet services\n",
    "- phone.csv — information about telephone services\n",
    "In each file, the column customerID contains a unique code assigned to each client.\n",
    "The contract information is valid as of February 1, 2020.\n"
   ]
  },
  {
   "cell_type": "code",
   "execution_count": 59,
   "metadata": {},
   "outputs": [],
   "source": [
    "# Import libraries\n",
    "import pandas as pd\n",
    "import re\n",
    "import seaborn as sns\n",
    "import matplotlib.pyplot as plt\n",
    "from sklearn.model_selection import train_test_split, RandomizedSearchCV\n",
    "from sklearn.pipeline import Pipeline\n",
    "from sklearn.compose import ColumnTransformer\n",
    "from sklearn.preprocessing import StandardScaler, OneHotEncoder\n",
    "from sklearn.linear_model import LogisticRegression\n",
    "from sklearn.metrics import roc_auc_score, accuracy_score, confusion_matrix\n",
    "from sklearn.tree import DecisionTreeClassifier\n",
    "from sklearn.ensemble import RandomForestClassifier\n",
    "from xgboost import XGBClassifier\n",
    "from catboost import CatBoostClassifier\n",
    "import lightgbm as lgb\n",
    "from sklearn.metrics import roc_curve, auc\n"
   ]
  },
  {
   "cell_type": "code",
   "execution_count": 2,
   "metadata": {},
   "outputs": [
    {
     "data": {
      "text/html": [
       "<div>\n",
       "<style scoped>\n",
       "    .dataframe tbody tr th:only-of-type {\n",
       "        vertical-align: middle;\n",
       "    }\n",
       "\n",
       "    .dataframe tbody tr th {\n",
       "        vertical-align: top;\n",
       "    }\n",
       "\n",
       "    .dataframe thead th {\n",
       "        text-align: right;\n",
       "    }\n",
       "</style>\n",
       "<table border=\"1\" class=\"dataframe\">\n",
       "  <thead>\n",
       "    <tr style=\"text-align: right;\">\n",
       "      <th></th>\n",
       "      <th>customerID</th>\n",
       "      <th>BeginDate</th>\n",
       "      <th>EndDate</th>\n",
       "      <th>Type</th>\n",
       "      <th>PaperlessBilling</th>\n",
       "      <th>PaymentMethod</th>\n",
       "      <th>MonthlyCharges</th>\n",
       "      <th>TotalCharges</th>\n",
       "    </tr>\n",
       "  </thead>\n",
       "  <tbody>\n",
       "    <tr>\n",
       "      <th>0</th>\n",
       "      <td>7590-VHVEG</td>\n",
       "      <td>2020-01-01</td>\n",
       "      <td>No</td>\n",
       "      <td>Month-to-month</td>\n",
       "      <td>Yes</td>\n",
       "      <td>Electronic check</td>\n",
       "      <td>29.85</td>\n",
       "      <td>29.85</td>\n",
       "    </tr>\n",
       "    <tr>\n",
       "      <th>1</th>\n",
       "      <td>5575-GNVDE</td>\n",
       "      <td>2017-04-01</td>\n",
       "      <td>No</td>\n",
       "      <td>One year</td>\n",
       "      <td>No</td>\n",
       "      <td>Mailed check</td>\n",
       "      <td>56.95</td>\n",
       "      <td>1889.5</td>\n",
       "    </tr>\n",
       "    <tr>\n",
       "      <th>2</th>\n",
       "      <td>3668-QPYBK</td>\n",
       "      <td>2019-10-01</td>\n",
       "      <td>2019-12-01 00:00:00</td>\n",
       "      <td>Month-to-month</td>\n",
       "      <td>Yes</td>\n",
       "      <td>Mailed check</td>\n",
       "      <td>53.85</td>\n",
       "      <td>108.15</td>\n",
       "    </tr>\n",
       "    <tr>\n",
       "      <th>3</th>\n",
       "      <td>7795-CFOCW</td>\n",
       "      <td>2016-05-01</td>\n",
       "      <td>No</td>\n",
       "      <td>One year</td>\n",
       "      <td>No</td>\n",
       "      <td>Bank transfer (automatic)</td>\n",
       "      <td>42.30</td>\n",
       "      <td>1840.75</td>\n",
       "    </tr>\n",
       "    <tr>\n",
       "      <th>4</th>\n",
       "      <td>9237-HQITU</td>\n",
       "      <td>2019-09-01</td>\n",
       "      <td>2019-11-01 00:00:00</td>\n",
       "      <td>Month-to-month</td>\n",
       "      <td>Yes</td>\n",
       "      <td>Electronic check</td>\n",
       "      <td>70.70</td>\n",
       "      <td>151.65</td>\n",
       "    </tr>\n",
       "    <tr>\n",
       "      <th>...</th>\n",
       "      <td>...</td>\n",
       "      <td>...</td>\n",
       "      <td>...</td>\n",
       "      <td>...</td>\n",
       "      <td>...</td>\n",
       "      <td>...</td>\n",
       "      <td>...</td>\n",
       "      <td>...</td>\n",
       "    </tr>\n",
       "    <tr>\n",
       "      <th>7038</th>\n",
       "      <td>6840-RESVB</td>\n",
       "      <td>2018-02-01</td>\n",
       "      <td>No</td>\n",
       "      <td>One year</td>\n",
       "      <td>Yes</td>\n",
       "      <td>Mailed check</td>\n",
       "      <td>84.80</td>\n",
       "      <td>1990.5</td>\n",
       "    </tr>\n",
       "    <tr>\n",
       "      <th>7039</th>\n",
       "      <td>2234-XADUH</td>\n",
       "      <td>2014-02-01</td>\n",
       "      <td>No</td>\n",
       "      <td>One year</td>\n",
       "      <td>Yes</td>\n",
       "      <td>Credit card (automatic)</td>\n",
       "      <td>103.20</td>\n",
       "      <td>7362.9</td>\n",
       "    </tr>\n",
       "    <tr>\n",
       "      <th>7040</th>\n",
       "      <td>4801-JZAZL</td>\n",
       "      <td>2019-03-01</td>\n",
       "      <td>No</td>\n",
       "      <td>Month-to-month</td>\n",
       "      <td>Yes</td>\n",
       "      <td>Electronic check</td>\n",
       "      <td>29.60</td>\n",
       "      <td>346.45</td>\n",
       "    </tr>\n",
       "    <tr>\n",
       "      <th>7041</th>\n",
       "      <td>8361-LTMKD</td>\n",
       "      <td>2019-07-01</td>\n",
       "      <td>2019-11-01 00:00:00</td>\n",
       "      <td>Month-to-month</td>\n",
       "      <td>Yes</td>\n",
       "      <td>Mailed check</td>\n",
       "      <td>74.40</td>\n",
       "      <td>306.6</td>\n",
       "    </tr>\n",
       "    <tr>\n",
       "      <th>7042</th>\n",
       "      <td>3186-AJIEK</td>\n",
       "      <td>2014-08-01</td>\n",
       "      <td>No</td>\n",
       "      <td>Two year</td>\n",
       "      <td>Yes</td>\n",
       "      <td>Bank transfer (automatic)</td>\n",
       "      <td>105.65</td>\n",
       "      <td>6844.5</td>\n",
       "    </tr>\n",
       "  </tbody>\n",
       "</table>\n",
       "<p>7043 rows × 8 columns</p>\n",
       "</div>"
      ],
      "text/plain": [
       "      customerID   BeginDate              EndDate            Type  \\\n",
       "0     7590-VHVEG  2020-01-01                   No  Month-to-month   \n",
       "1     5575-GNVDE  2017-04-01                   No        One year   \n",
       "2     3668-QPYBK  2019-10-01  2019-12-01 00:00:00  Month-to-month   \n",
       "3     7795-CFOCW  2016-05-01                   No        One year   \n",
       "4     9237-HQITU  2019-09-01  2019-11-01 00:00:00  Month-to-month   \n",
       "...          ...         ...                  ...             ...   \n",
       "7038  6840-RESVB  2018-02-01                   No        One year   \n",
       "7039  2234-XADUH  2014-02-01                   No        One year   \n",
       "7040  4801-JZAZL  2019-03-01                   No  Month-to-month   \n",
       "7041  8361-LTMKD  2019-07-01  2019-11-01 00:00:00  Month-to-month   \n",
       "7042  3186-AJIEK  2014-08-01                   No        Two year   \n",
       "\n",
       "     PaperlessBilling              PaymentMethod  MonthlyCharges TotalCharges  \n",
       "0                 Yes           Electronic check           29.85        29.85  \n",
       "1                  No               Mailed check           56.95       1889.5  \n",
       "2                 Yes               Mailed check           53.85       108.15  \n",
       "3                  No  Bank transfer (automatic)           42.30      1840.75  \n",
       "4                 Yes           Electronic check           70.70       151.65  \n",
       "...               ...                        ...             ...          ...  \n",
       "7038              Yes               Mailed check           84.80       1990.5  \n",
       "7039              Yes    Credit card (automatic)          103.20       7362.9  \n",
       "7040              Yes           Electronic check           29.60       346.45  \n",
       "7041              Yes               Mailed check           74.40        306.6  \n",
       "7042              Yes  Bank transfer (automatic)          105.65       6844.5  \n",
       "\n",
       "[7043 rows x 8 columns]"
      ]
     },
     "metadata": {},
     "output_type": "display_data"
    }
   ],
   "source": [
    "# Load  dataset\n",
    "df_contract = pd.read_csv('/datasets/final_provider/contract.csv')\n",
    "display(df_contract)"
   ]
  },
  {
   "cell_type": "code",
   "execution_count": 3,
   "metadata": {},
   "outputs": [
    {
     "name": "stdout",
     "output_type": "stream",
     "text": [
      "<class 'pandas.core.frame.DataFrame'>\n",
      "RangeIndex: 7043 entries, 0 to 7042\n",
      "Data columns (total 8 columns):\n",
      " #   Column            Non-Null Count  Dtype  \n",
      "---  ------            --------------  -----  \n",
      " 0   customerID        7043 non-null   object \n",
      " 1   BeginDate         7043 non-null   object \n",
      " 2   EndDate           7043 non-null   object \n",
      " 3   Type              7043 non-null   object \n",
      " 4   PaperlessBilling  7043 non-null   object \n",
      " 5   PaymentMethod     7043 non-null   object \n",
      " 6   MonthlyCharges    7043 non-null   float64\n",
      " 7   TotalCharges      7043 non-null   object \n",
      "dtypes: float64(1), object(7)\n",
      "memory usage: 440.3+ KB\n"
     ]
    }
   ],
   "source": [
    "df_contract.info()"
   ]
  },
  {
   "cell_type": "code",
   "execution_count": 4,
   "metadata": {},
   "outputs": [
    {
     "data": {
      "text/plain": [
       "2013-10-01      3\n",
       "2013-11-01      2\n",
       "2013-12-01      3\n",
       "2014-01-01      7\n",
       "2014-02-01    366\n",
       "             ... \n",
       "2019-10-01    237\n",
       "2019-11-01    237\n",
       "2019-12-01    220\n",
       "2020-01-01    233\n",
       "2020-02-01     11\n",
       "Name: BeginDate, Length: 77, dtype: int64"
      ]
     },
     "execution_count": 4,
     "metadata": {},
     "output_type": "execute_result"
    }
   ],
   "source": [
    "df_contract['BeginDate'].value_counts().sort_index()"
   ]
  },
  {
   "cell_type": "markdown",
   "metadata": {},
   "source": [
    "The data stored above is  customers who started there connection from January 01, 2013 to February 01, 2020."
   ]
  },
  {
   "cell_type": "code",
   "execution_count": 5,
   "metadata": {},
   "outputs": [
    {
     "data": {
      "text/plain": [
       "0.7346301292063041"
      ]
     },
     "execution_count": 5,
     "metadata": {},
     "output_type": "execute_result"
    }
   ],
   "source": [
    "len(df_contract[df_contract['EndDate']=='No'])/len(df_contract['EndDate'])"
   ]
  },
  {
   "cell_type": "markdown",
   "metadata": {},
   "source": [
    "About 73.46% customers from above period leaves the service which means more than 25% customers are leaving. So we want to find out the major factors which affect the churn rate and how we can retain the customers."
   ]
  },
  {
   "cell_type": "markdown",
   "metadata": {},
   "source": [
    "The df_contract dataframe consists of 7043 rows and 8 columns. The columns are:\n",
    "\n",
    "customerID - A unique identifier for each customer. It likely serves as the primary key.\n",
    "BeginDate -The start date of the customer's subscription. Stored as a string but should be converted to datetime.\n",
    "EndDate -The end date of the subscription. Could indicate churn if it differs from a \"still active\" stage. Also stored as a string.\n",
    "Type - The type of subscription\n",
    "PaperlessBilling-Indicates whether the customer opted for paperless billing (Yes/No). A binary categorical variable.\n",
    "PaymentMethod -Method of payment (e.g., credit card, bank transfer, electronic check). Categorical variable.\n",
    "MonthlyCharges-The amount charged to the customer monthly. This is a numerical feature.\n",
    "TotalCharges-The total amount charged\n",
    "Potential issues are Incorrect Data Types:\n",
    "\n",
    " - TotalCharges is an object type but should be numeric.\n",
    " - BeginDate and EndDate should be datetime, not object."
   ]
  },
  {
   "cell_type": "code",
   "execution_count": 6,
   "metadata": {},
   "outputs": [
    {
     "data": {
      "text/html": [
       "<div>\n",
       "<style scoped>\n",
       "    .dataframe tbody tr th:only-of-type {\n",
       "        vertical-align: middle;\n",
       "    }\n",
       "\n",
       "    .dataframe tbody tr th {\n",
       "        vertical-align: top;\n",
       "    }\n",
       "\n",
       "    .dataframe thead th {\n",
       "        text-align: right;\n",
       "    }\n",
       "</style>\n",
       "<table border=\"1\" class=\"dataframe\">\n",
       "  <thead>\n",
       "    <tr style=\"text-align: right;\">\n",
       "      <th></th>\n",
       "      <th>customerID</th>\n",
       "      <th>gender</th>\n",
       "      <th>SeniorCitizen</th>\n",
       "      <th>Partner</th>\n",
       "      <th>Dependents</th>\n",
       "    </tr>\n",
       "  </thead>\n",
       "  <tbody>\n",
       "    <tr>\n",
       "      <th>0</th>\n",
       "      <td>7590-VHVEG</td>\n",
       "      <td>Female</td>\n",
       "      <td>0</td>\n",
       "      <td>Yes</td>\n",
       "      <td>No</td>\n",
       "    </tr>\n",
       "    <tr>\n",
       "      <th>1</th>\n",
       "      <td>5575-GNVDE</td>\n",
       "      <td>Male</td>\n",
       "      <td>0</td>\n",
       "      <td>No</td>\n",
       "      <td>No</td>\n",
       "    </tr>\n",
       "    <tr>\n",
       "      <th>2</th>\n",
       "      <td>3668-QPYBK</td>\n",
       "      <td>Male</td>\n",
       "      <td>0</td>\n",
       "      <td>No</td>\n",
       "      <td>No</td>\n",
       "    </tr>\n",
       "    <tr>\n",
       "      <th>3</th>\n",
       "      <td>7795-CFOCW</td>\n",
       "      <td>Male</td>\n",
       "      <td>0</td>\n",
       "      <td>No</td>\n",
       "      <td>No</td>\n",
       "    </tr>\n",
       "    <tr>\n",
       "      <th>4</th>\n",
       "      <td>9237-HQITU</td>\n",
       "      <td>Female</td>\n",
       "      <td>0</td>\n",
       "      <td>No</td>\n",
       "      <td>No</td>\n",
       "    </tr>\n",
       "    <tr>\n",
       "      <th>...</th>\n",
       "      <td>...</td>\n",
       "      <td>...</td>\n",
       "      <td>...</td>\n",
       "      <td>...</td>\n",
       "      <td>...</td>\n",
       "    </tr>\n",
       "    <tr>\n",
       "      <th>7038</th>\n",
       "      <td>6840-RESVB</td>\n",
       "      <td>Male</td>\n",
       "      <td>0</td>\n",
       "      <td>Yes</td>\n",
       "      <td>Yes</td>\n",
       "    </tr>\n",
       "    <tr>\n",
       "      <th>7039</th>\n",
       "      <td>2234-XADUH</td>\n",
       "      <td>Female</td>\n",
       "      <td>0</td>\n",
       "      <td>Yes</td>\n",
       "      <td>Yes</td>\n",
       "    </tr>\n",
       "    <tr>\n",
       "      <th>7040</th>\n",
       "      <td>4801-JZAZL</td>\n",
       "      <td>Female</td>\n",
       "      <td>0</td>\n",
       "      <td>Yes</td>\n",
       "      <td>Yes</td>\n",
       "    </tr>\n",
       "    <tr>\n",
       "      <th>7041</th>\n",
       "      <td>8361-LTMKD</td>\n",
       "      <td>Male</td>\n",
       "      <td>1</td>\n",
       "      <td>Yes</td>\n",
       "      <td>No</td>\n",
       "    </tr>\n",
       "    <tr>\n",
       "      <th>7042</th>\n",
       "      <td>3186-AJIEK</td>\n",
       "      <td>Male</td>\n",
       "      <td>0</td>\n",
       "      <td>No</td>\n",
       "      <td>No</td>\n",
       "    </tr>\n",
       "  </tbody>\n",
       "</table>\n",
       "<p>7043 rows × 5 columns</p>\n",
       "</div>"
      ],
      "text/plain": [
       "      customerID  gender  SeniorCitizen Partner Dependents\n",
       "0     7590-VHVEG  Female              0     Yes         No\n",
       "1     5575-GNVDE    Male              0      No         No\n",
       "2     3668-QPYBK    Male              0      No         No\n",
       "3     7795-CFOCW    Male              0      No         No\n",
       "4     9237-HQITU  Female              0      No         No\n",
       "...          ...     ...            ...     ...        ...\n",
       "7038  6840-RESVB    Male              0     Yes        Yes\n",
       "7039  2234-XADUH  Female              0     Yes        Yes\n",
       "7040  4801-JZAZL  Female              0     Yes        Yes\n",
       "7041  8361-LTMKD    Male              1     Yes         No\n",
       "7042  3186-AJIEK    Male              0      No         No\n",
       "\n",
       "[7043 rows x 5 columns]"
      ]
     },
     "metadata": {},
     "output_type": "display_data"
    }
   ],
   "source": [
    "df_personal = pd.read_csv('/datasets/final_provider/personal.csv')\n",
    "display(df_personal)"
   ]
  },
  {
   "cell_type": "code",
   "execution_count": 7,
   "metadata": {},
   "outputs": [
    {
     "name": "stdout",
     "output_type": "stream",
     "text": [
      "<class 'pandas.core.frame.DataFrame'>\n",
      "RangeIndex: 7043 entries, 0 to 7042\n",
      "Data columns (total 5 columns):\n",
      " #   Column         Non-Null Count  Dtype \n",
      "---  ------         --------------  ----- \n",
      " 0   customerID     7043 non-null   object\n",
      " 1   gender         7043 non-null   object\n",
      " 2   SeniorCitizen  7043 non-null   int64 \n",
      " 3   Partner        7043 non-null   object\n",
      " 4   Dependents     7043 non-null   object\n",
      "dtypes: int64(1), object(4)\n",
      "memory usage: 275.2+ KB\n"
     ]
    }
   ],
   "source": [
    "df_personal.info()"
   ]
  },
  {
   "cell_type": "markdown",
   "metadata": {},
   "source": [
    "The DataFrame you’ve provided has 7,043 rows and 5 columns, representing personal data for customers.\n",
    "\n",
    "customerID -Unique identifier for each customer. Used to link with other datasets.\n",
    "gender - Customer’s gender.\n",
    "SeniorCitizen - Indicates if the customer is a senior citizen: 0 = No, 1 = Yes. A binary numeric flag.\n",
    "Partner - Indicates if the customer has a partner: Yes or No. A binary categorical variable.\n",
    "Dependents - Indicates if the customer has dependents(Yes or No)\n"
   ]
  },
  {
   "cell_type": "code",
   "execution_count": 8,
   "metadata": {},
   "outputs": [
    {
     "data": {
      "text/plain": [
       "0.2995882436461735"
      ]
     },
     "execution_count": 8,
     "metadata": {},
     "output_type": "execute_result"
    }
   ],
   "source": [
    "len(df_personal[df_personal['Dependents']=='Yes'])/len(df_personal['Dependents'])"
   ]
  },
  {
   "cell_type": "markdown",
   "metadata": {},
   "source": [
    "Is there any family plan improves the profit and deacrease the churn rate."
   ]
  },
  {
   "cell_type": "code",
   "execution_count": 9,
   "metadata": {},
   "outputs": [
    {
     "data": {
      "text/plain": [
       "Male      3555\n",
       "Female    3488\n",
       "Name: gender, dtype: int64"
      ]
     },
     "execution_count": 9,
     "metadata": {},
     "output_type": "execute_result"
    }
   ],
   "source": [
    "df_personal['gender'].value_counts()"
   ]
  },
  {
   "cell_type": "markdown",
   "metadata": {},
   "source": [
    "In the dataset, there are 3,555 male entries and 3,488 female entries, indicating a nearly balanced distribution between genders."
   ]
  },
  {
   "cell_type": "code",
   "execution_count": 10,
   "metadata": {},
   "outputs": [
    {
     "data": {
      "text/html": [
       "<div>\n",
       "<style scoped>\n",
       "    .dataframe tbody tr th:only-of-type {\n",
       "        vertical-align: middle;\n",
       "    }\n",
       "\n",
       "    .dataframe tbody tr th {\n",
       "        vertical-align: top;\n",
       "    }\n",
       "\n",
       "    .dataframe thead th {\n",
       "        text-align: right;\n",
       "    }\n",
       "</style>\n",
       "<table border=\"1\" class=\"dataframe\">\n",
       "  <thead>\n",
       "    <tr style=\"text-align: right;\">\n",
       "      <th></th>\n",
       "      <th>customerID</th>\n",
       "      <th>InternetService</th>\n",
       "      <th>OnlineSecurity</th>\n",
       "      <th>OnlineBackup</th>\n",
       "      <th>DeviceProtection</th>\n",
       "      <th>TechSupport</th>\n",
       "      <th>StreamingTV</th>\n",
       "      <th>StreamingMovies</th>\n",
       "    </tr>\n",
       "  </thead>\n",
       "  <tbody>\n",
       "    <tr>\n",
       "      <th>0</th>\n",
       "      <td>7590-VHVEG</td>\n",
       "      <td>DSL</td>\n",
       "      <td>No</td>\n",
       "      <td>Yes</td>\n",
       "      <td>No</td>\n",
       "      <td>No</td>\n",
       "      <td>No</td>\n",
       "      <td>No</td>\n",
       "    </tr>\n",
       "    <tr>\n",
       "      <th>1</th>\n",
       "      <td>5575-GNVDE</td>\n",
       "      <td>DSL</td>\n",
       "      <td>Yes</td>\n",
       "      <td>No</td>\n",
       "      <td>Yes</td>\n",
       "      <td>No</td>\n",
       "      <td>No</td>\n",
       "      <td>No</td>\n",
       "    </tr>\n",
       "    <tr>\n",
       "      <th>2</th>\n",
       "      <td>3668-QPYBK</td>\n",
       "      <td>DSL</td>\n",
       "      <td>Yes</td>\n",
       "      <td>Yes</td>\n",
       "      <td>No</td>\n",
       "      <td>No</td>\n",
       "      <td>No</td>\n",
       "      <td>No</td>\n",
       "    </tr>\n",
       "    <tr>\n",
       "      <th>3</th>\n",
       "      <td>7795-CFOCW</td>\n",
       "      <td>DSL</td>\n",
       "      <td>Yes</td>\n",
       "      <td>No</td>\n",
       "      <td>Yes</td>\n",
       "      <td>Yes</td>\n",
       "      <td>No</td>\n",
       "      <td>No</td>\n",
       "    </tr>\n",
       "    <tr>\n",
       "      <th>4</th>\n",
       "      <td>9237-HQITU</td>\n",
       "      <td>Fiber optic</td>\n",
       "      <td>No</td>\n",
       "      <td>No</td>\n",
       "      <td>No</td>\n",
       "      <td>No</td>\n",
       "      <td>No</td>\n",
       "      <td>No</td>\n",
       "    </tr>\n",
       "    <tr>\n",
       "      <th>...</th>\n",
       "      <td>...</td>\n",
       "      <td>...</td>\n",
       "      <td>...</td>\n",
       "      <td>...</td>\n",
       "      <td>...</td>\n",
       "      <td>...</td>\n",
       "      <td>...</td>\n",
       "      <td>...</td>\n",
       "    </tr>\n",
       "    <tr>\n",
       "      <th>5512</th>\n",
       "      <td>6840-RESVB</td>\n",
       "      <td>DSL</td>\n",
       "      <td>Yes</td>\n",
       "      <td>No</td>\n",
       "      <td>Yes</td>\n",
       "      <td>Yes</td>\n",
       "      <td>Yes</td>\n",
       "      <td>Yes</td>\n",
       "    </tr>\n",
       "    <tr>\n",
       "      <th>5513</th>\n",
       "      <td>2234-XADUH</td>\n",
       "      <td>Fiber optic</td>\n",
       "      <td>No</td>\n",
       "      <td>Yes</td>\n",
       "      <td>Yes</td>\n",
       "      <td>No</td>\n",
       "      <td>Yes</td>\n",
       "      <td>Yes</td>\n",
       "    </tr>\n",
       "    <tr>\n",
       "      <th>5514</th>\n",
       "      <td>4801-JZAZL</td>\n",
       "      <td>DSL</td>\n",
       "      <td>Yes</td>\n",
       "      <td>No</td>\n",
       "      <td>No</td>\n",
       "      <td>No</td>\n",
       "      <td>No</td>\n",
       "      <td>No</td>\n",
       "    </tr>\n",
       "    <tr>\n",
       "      <th>5515</th>\n",
       "      <td>8361-LTMKD</td>\n",
       "      <td>Fiber optic</td>\n",
       "      <td>No</td>\n",
       "      <td>No</td>\n",
       "      <td>No</td>\n",
       "      <td>No</td>\n",
       "      <td>No</td>\n",
       "      <td>No</td>\n",
       "    </tr>\n",
       "    <tr>\n",
       "      <th>5516</th>\n",
       "      <td>3186-AJIEK</td>\n",
       "      <td>Fiber optic</td>\n",
       "      <td>Yes</td>\n",
       "      <td>No</td>\n",
       "      <td>Yes</td>\n",
       "      <td>Yes</td>\n",
       "      <td>Yes</td>\n",
       "      <td>Yes</td>\n",
       "    </tr>\n",
       "  </tbody>\n",
       "</table>\n",
       "<p>5517 rows × 8 columns</p>\n",
       "</div>"
      ],
      "text/plain": [
       "      customerID InternetService OnlineSecurity OnlineBackup DeviceProtection  \\\n",
       "0     7590-VHVEG             DSL             No          Yes               No   \n",
       "1     5575-GNVDE             DSL            Yes           No              Yes   \n",
       "2     3668-QPYBK             DSL            Yes          Yes               No   \n",
       "3     7795-CFOCW             DSL            Yes           No              Yes   \n",
       "4     9237-HQITU     Fiber optic             No           No               No   \n",
       "...          ...             ...            ...          ...              ...   \n",
       "5512  6840-RESVB             DSL            Yes           No              Yes   \n",
       "5513  2234-XADUH     Fiber optic             No          Yes              Yes   \n",
       "5514  4801-JZAZL             DSL            Yes           No               No   \n",
       "5515  8361-LTMKD     Fiber optic             No           No               No   \n",
       "5516  3186-AJIEK     Fiber optic            Yes           No              Yes   \n",
       "\n",
       "     TechSupport StreamingTV StreamingMovies  \n",
       "0             No          No              No  \n",
       "1             No          No              No  \n",
       "2             No          No              No  \n",
       "3            Yes          No              No  \n",
       "4             No          No              No  \n",
       "...          ...         ...             ...  \n",
       "5512         Yes         Yes             Yes  \n",
       "5513          No         Yes             Yes  \n",
       "5514          No          No              No  \n",
       "5515          No          No              No  \n",
       "5516         Yes         Yes             Yes  \n",
       "\n",
       "[5517 rows x 8 columns]"
      ]
     },
     "metadata": {},
     "output_type": "display_data"
    }
   ],
   "source": [
    "df_internet = pd.read_csv('/datasets/final_provider/internet.csv')\n",
    "display(df_internet)"
   ]
  },
  {
   "cell_type": "code",
   "execution_count": 11,
   "metadata": {},
   "outputs": [
    {
     "name": "stdout",
     "output_type": "stream",
     "text": [
      "<class 'pandas.core.frame.DataFrame'>\n",
      "RangeIndex: 5517 entries, 0 to 5516\n",
      "Data columns (total 8 columns):\n",
      " #   Column            Non-Null Count  Dtype \n",
      "---  ------            --------------  ----- \n",
      " 0   customerID        5517 non-null   object\n",
      " 1   InternetService   5517 non-null   object\n",
      " 2   OnlineSecurity    5517 non-null   object\n",
      " 3   OnlineBackup      5517 non-null   object\n",
      " 4   DeviceProtection  5517 non-null   object\n",
      " 5   TechSupport       5517 non-null   object\n",
      " 6   StreamingTV       5517 non-null   object\n",
      " 7   StreamingMovies   5517 non-null   object\n",
      "dtypes: object(8)\n",
      "memory usage: 344.9+ KB\n"
     ]
    }
   ],
   "source": [
    "df_internet.info()"
   ]
  },
  {
   "cell_type": "markdown",
   "metadata": {},
   "source": [
    "The third DataFrame provided contains 5,517 rows and 8 columns, focused on internet service and additional digital features associated with customers.\n",
    "\n",
    "customerID : Unique identifier for each customer. Used to link with other datasets.\n",
    "InternetService : Type of internet service: values like DSL, Fiber optic\n",
    "OnlineSecurity : Whether the customer subscribes to online security services (Yes, No)\n",
    "OnlineBackup : Indicates if online backup service is included (Yes, No)\n",
    "DeviceProtection : Whether the customer has device protection service (Yes, No)\n",
    "TechSupport : Access to technical support service (Yes, No)\n",
    "StreamingTV : Whether the customer streams TV through the provider (Yes, No)\n",
    "StreamingMovies :Whether the customer streams movies through the provider (Yes, No)"
   ]
  },
  {
   "cell_type": "code",
   "execution_count": 12,
   "metadata": {},
   "outputs": [
    {
     "data": {
      "text/plain": [
       "Fiber optic    3096\n",
       "DSL            2421\n",
       "Name: InternetService, dtype: int64"
      ]
     },
     "execution_count": 12,
     "metadata": {},
     "output_type": "execute_result"
    }
   ],
   "source": [
    "df_internet['InternetService'].value_counts()"
   ]
  },
  {
   "cell_type": "markdown",
   "metadata": {},
   "source": [
    "The dataset includes 3,096 entries using fiber optic connections and 2,421 using DSL. Fiber optic is the more common connection type, suggesting a higher adoption of faster internet service among users."
   ]
  },
  {
   "cell_type": "code",
   "execution_count": 13,
   "metadata": {},
   "outputs": [
    {
     "data": {
      "text/html": [
       "<div>\n",
       "<style scoped>\n",
       "    .dataframe tbody tr th:only-of-type {\n",
       "        vertical-align: middle;\n",
       "    }\n",
       "\n",
       "    .dataframe tbody tr th {\n",
       "        vertical-align: top;\n",
       "    }\n",
       "\n",
       "    .dataframe thead th {\n",
       "        text-align: right;\n",
       "    }\n",
       "</style>\n",
       "<table border=\"1\" class=\"dataframe\">\n",
       "  <thead>\n",
       "    <tr style=\"text-align: right;\">\n",
       "      <th></th>\n",
       "      <th>customerID</th>\n",
       "      <th>MultipleLines</th>\n",
       "    </tr>\n",
       "  </thead>\n",
       "  <tbody>\n",
       "    <tr>\n",
       "      <th>0</th>\n",
       "      <td>5575-GNVDE</td>\n",
       "      <td>No</td>\n",
       "    </tr>\n",
       "    <tr>\n",
       "      <th>1</th>\n",
       "      <td>3668-QPYBK</td>\n",
       "      <td>No</td>\n",
       "    </tr>\n",
       "    <tr>\n",
       "      <th>2</th>\n",
       "      <td>9237-HQITU</td>\n",
       "      <td>No</td>\n",
       "    </tr>\n",
       "    <tr>\n",
       "      <th>3</th>\n",
       "      <td>9305-CDSKC</td>\n",
       "      <td>Yes</td>\n",
       "    </tr>\n",
       "    <tr>\n",
       "      <th>4</th>\n",
       "      <td>1452-KIOVK</td>\n",
       "      <td>Yes</td>\n",
       "    </tr>\n",
       "    <tr>\n",
       "      <th>...</th>\n",
       "      <td>...</td>\n",
       "      <td>...</td>\n",
       "    </tr>\n",
       "    <tr>\n",
       "      <th>6356</th>\n",
       "      <td>2569-WGERO</td>\n",
       "      <td>No</td>\n",
       "    </tr>\n",
       "    <tr>\n",
       "      <th>6357</th>\n",
       "      <td>6840-RESVB</td>\n",
       "      <td>Yes</td>\n",
       "    </tr>\n",
       "    <tr>\n",
       "      <th>6358</th>\n",
       "      <td>2234-XADUH</td>\n",
       "      <td>Yes</td>\n",
       "    </tr>\n",
       "    <tr>\n",
       "      <th>6359</th>\n",
       "      <td>8361-LTMKD</td>\n",
       "      <td>Yes</td>\n",
       "    </tr>\n",
       "    <tr>\n",
       "      <th>6360</th>\n",
       "      <td>3186-AJIEK</td>\n",
       "      <td>No</td>\n",
       "    </tr>\n",
       "  </tbody>\n",
       "</table>\n",
       "<p>6361 rows × 2 columns</p>\n",
       "</div>"
      ],
      "text/plain": [
       "      customerID MultipleLines\n",
       "0     5575-GNVDE            No\n",
       "1     3668-QPYBK            No\n",
       "2     9237-HQITU            No\n",
       "3     9305-CDSKC           Yes\n",
       "4     1452-KIOVK           Yes\n",
       "...          ...           ...\n",
       "6356  2569-WGERO            No\n",
       "6357  6840-RESVB           Yes\n",
       "6358  2234-XADUH           Yes\n",
       "6359  8361-LTMKD           Yes\n",
       "6360  3186-AJIEK            No\n",
       "\n",
       "[6361 rows x 2 columns]"
      ]
     },
     "metadata": {},
     "output_type": "display_data"
    }
   ],
   "source": [
    "df_phone = pd.read_csv('/datasets/final_provider/phone.csv')\n",
    "display(df_phone)"
   ]
  },
  {
   "cell_type": "code",
   "execution_count": 14,
   "metadata": {},
   "outputs": [
    {
     "name": "stdout",
     "output_type": "stream",
     "text": [
      "<class 'pandas.core.frame.DataFrame'>\n",
      "RangeIndex: 6361 entries, 0 to 6360\n",
      "Data columns (total 2 columns):\n",
      " #   Column         Non-Null Count  Dtype \n",
      "---  ------         --------------  ----- \n",
      " 0   customerID     6361 non-null   object\n",
      " 1   MultipleLines  6361 non-null   object\n",
      "dtypes: object(2)\n",
      "memory usage: 99.5+ KB\n"
     ]
    }
   ],
   "source": [
    "df_phone.info()"
   ]
  },
  {
   "cell_type": "markdown",
   "metadata": {},
   "source": [
    "This DataFrame contains 6,361 rows and 2 columns, providing data on whether customers have multiple phone lines as part of their service.\n",
    "\n",
    "customerID : Unique identifier for each customer. Used for merging with other datasets.\n",
    "MultipleLines : Indicates whether the customer has multiple phone lines (Yes, No)"
   ]
  },
  {
   "cell_type": "code",
   "execution_count": 15,
   "metadata": {},
   "outputs": [
    {
     "data": {
      "text/plain": [
       "0.46706492689828644"
      ]
     },
     "execution_count": 15,
     "metadata": {},
     "output_type": "execute_result"
    }
   ],
   "source": [
    "len(df_phone[df_phone['MultipleLines']=='Yes'])/len(df_phone['MultipleLines'])"
   ]
  },
  {
   "cell_type": "markdown",
   "metadata": {},
   "source": [
    "From the above analysis, it is clear that 46.7% of customers have multiple lines and do customers with multiple lines have a higher churn rate compared to those with a single line, could there be underlying service or pricing issues driving this factor."
   ]
  },
  {
   "cell_type": "markdown",
   "metadata": {},
   "source": [
    "## Clarifying Questions\n",
    "\n",
    "1. What are the key factors contributing to customer churn in our dataset?\n",
    "2. Which features (e.g., contract, internet service, online security, online backup, device protection) are most strongly associated with higher churn rates?\n",
    "3. Are customers with multiple lines more likely to churn than those with only one line?\n",
    "4. Based on our churn drivers, what targeted strategies can we implement to improve customer retention?\n",
    "5. What is the acceptable level of false positives in our churn prediction model, considering the marketing budget for retention offers and promotions?"
   ]
  },
  {
   "cell_type": "markdown",
   "metadata": {},
   "source": [
    "## Proposed Work Plan\n",
    "Our goal is to develop a model that can tell the user will leave the service and the steps to achieve that will be\n",
    "\n",
    "1. Download the data\n",
    "2. Explore the data to determine how to treat the data in the preprocessing\n",
    "3. Perform preprocessing of data\n",
    "      - Change column name to snakecase\n",
    "      - Handle missing values, type conversions\n",
    "      - Merge datasets on Customer ID\n",
    "      - Define target variable (Churn=1 or 0)\n",
    "4. Perform EDA to explore the data in depth\n",
    "      - Determine churn Vs non churn\n",
    "      - Examine is there any factors like gender, type etc affect the churn rate\n",
    "      - Examine the class imbalace and verify that churn is the minority class\n",
    "      - Visualize the correlation between different features\n",
    "      - Examiner data quality issues like outliers\n",
    "5. Feature Engineering\n",
    "      - Feature extraction\n",
    "      - Encoding categorical variables- One Hot Encoding\n",
    "      - Normalize/Scale numerical features\n",
    "6. Compare different models\n",
    "      - Logistic Regression (baseline)\n",
    "      - Random Forest / Gradient Boosting (XGBoost, LightGBM)\n",
    "      - Hyperparameter tuning\n",
    "      - Handle class imbalances\n",
    "      - Evaluvate KPI AUC ROC and accuracy\n",
    "7. Model Interpretation\n",
    "      - Evaluvate different models and choose the model which obtain higher AUC ROC\n",
    "8. Final Report\n"
   ]
  },
  {
   "cell_type": "markdown",
   "metadata": {},
   "source": [
    "## Data Preparation :\n",
    "Objectives:\n",
    "- Merge datasets on Customer ID\n",
    "- Handle missing values, type conversions\n",
    "- Define target variable (Churn=1 or 0)"
   ]
  },
  {
   "cell_type": "code",
   "execution_count": 16,
   "metadata": {},
   "outputs": [
    {
     "name": "stdout",
     "output_type": "stream",
     "text": [
      "Index(['customer_i_d', 'begin_date', 'end_date', 'type', 'paperless_billing',\n",
      "       'payment_method', 'monthly_charges', 'total_charges'],\n",
      "      dtype='object')\n"
     ]
    }
   ],
   "source": [
    "# Convert the name of columns into appropriate form\n",
    "df_contract.columns = [re.sub(r'(?<!^)(?=[A-Z])', '_', column).lower().replace(' ', '_') for column in df_contract.columns]\n",
    "print(df_contract.columns)"
   ]
  },
  {
   "cell_type": "code",
   "execution_count": 17,
   "metadata": {},
   "outputs": [
    {
     "name": "stdout",
     "output_type": "stream",
     "text": [
      "Index(['customer_i_d', 'gender', 'senior_citizen', 'partner', 'dependents'], dtype='object')\n"
     ]
    }
   ],
   "source": [
    "# Convert the name of columns into appropriate form\n",
    "df_personal.columns = [re.sub(r'(?<!^)(?=[A-Z])', '_', column).lower().replace(' ', '_') for column in df_personal.columns]\n",
    "print(df_personal.columns)"
   ]
  },
  {
   "cell_type": "code",
   "execution_count": 18,
   "metadata": {},
   "outputs": [
    {
     "name": "stdout",
     "output_type": "stream",
     "text": [
      "Index(['customer_i_d', 'internet_service', 'online_security', 'online_backup',\n",
      "       'device_protection', 'tech_support', 'streaming_t_v',\n",
      "       'streaming_movies'],\n",
      "      dtype='object')\n"
     ]
    }
   ],
   "source": [
    "# Convert the name of columns into appropriate form\n",
    "df_internet.columns = [re.sub(r'(?<!^)(?=[A-Z])', '_', column).lower().replace(' ', '_') for column in df_internet.columns]\n",
    "print(df_internet.columns)"
   ]
  },
  {
   "cell_type": "code",
   "execution_count": 19,
   "metadata": {},
   "outputs": [
    {
     "name": "stdout",
     "output_type": "stream",
     "text": [
      "Index(['customer_i_d', 'multiple_lines'], dtype='object')\n"
     ]
    }
   ],
   "source": [
    "# Convert the name of columns into appropriate form\n",
    "df_phone.columns = [re.sub(r'(?<!^)(?=[A-Z])', '_', column).lower().replace(' ', '_') for column in df_phone.columns]\n",
    "print(df_phone.columns)"
   ]
  },
  {
   "cell_type": "code",
   "execution_count": 20,
   "metadata": {},
   "outputs": [],
   "source": [
    "# Convert  dates dtype to datetime\n",
    "df_contract['begin_date'] = pd.to_datetime(df_contract['begin_date'])"
   ]
  },
  {
   "cell_type": "code",
   "execution_count": 21,
   "metadata": {},
   "outputs": [],
   "source": [
    "# Create churn target column: 1 = churned, 0 = not churned\n",
    "df_contract['churn'] = (df_contract['end_date'] != 'No').astype(int)\n",
    "# Drop end date\n",
    "df_contract.drop(columns=['end_date'], inplace=True)"
   ]
  },
  {
   "cell_type": "code",
   "execution_count": 22,
   "metadata": {},
   "outputs": [
    {
     "data": {
      "text/plain": [
       "11"
      ]
     },
     "execution_count": 22,
     "metadata": {},
     "output_type": "execute_result"
    }
   ],
   "source": [
    "# Convert total charges to numeric type\n",
    "df_contract['total_charges'] = pd.to_numeric(df_contract['total_charges'], errors='coerce')\n",
    "# Check for NaNs created by coercion:\n",
    "df_contract['total_charges'] .isna().sum()"
   ]
  },
  {
   "cell_type": "code",
   "execution_count": 23,
   "metadata": {},
   "outputs": [],
   "source": [
    "# Drop missing columns\n",
    "df_contract = df_contract.dropna(subset=['total_charges'])"
   ]
  },
  {
   "cell_type": "code",
   "execution_count": 24,
   "metadata": {},
   "outputs": [
    {
     "data": {
      "text/plain": [
       "customer_i_d         0\n",
       "begin_date           0\n",
       "type                 0\n",
       "paperless_billing    0\n",
       "payment_method       0\n",
       "monthly_charges      0\n",
       "total_charges        0\n",
       "churn                0\n",
       "dtype: int64"
      ]
     },
     "execution_count": 24,
     "metadata": {},
     "output_type": "execute_result"
    }
   ],
   "source": [
    "# Check for missing values\n",
    "df_contract.isnull().sum()"
   ]
  },
  {
   "cell_type": "code",
   "execution_count": 25,
   "metadata": {},
   "outputs": [
    {
     "data": {
      "text/plain": [
       "0"
      ]
     },
     "execution_count": 25,
     "metadata": {},
     "output_type": "execute_result"
    }
   ],
   "source": [
    "#Check for duplicate values\n",
    "df_contract.duplicated().sum()"
   ]
  },
  {
   "cell_type": "code",
   "execution_count": 26,
   "metadata": {},
   "outputs": [
    {
     "data": {
      "text/plain": [
       "customer_i_d      0\n",
       "gender            0\n",
       "senior_citizen    0\n",
       "partner           0\n",
       "dependents        0\n",
       "dtype: int64"
      ]
     },
     "execution_count": 26,
     "metadata": {},
     "output_type": "execute_result"
    }
   ],
   "source": [
    "# Check for missing values\n",
    "df_personal.isnull().sum()"
   ]
  },
  {
   "cell_type": "code",
   "execution_count": 27,
   "metadata": {},
   "outputs": [
    {
     "data": {
      "text/plain": [
       "0"
      ]
     },
     "execution_count": 27,
     "metadata": {},
     "output_type": "execute_result"
    }
   ],
   "source": [
    "#Check for duplicate values\n",
    "df_personal.duplicated().sum()"
   ]
  },
  {
   "cell_type": "code",
   "execution_count": 28,
   "metadata": {},
   "outputs": [
    {
     "data": {
      "text/plain": [
       "customer_i_d         0\n",
       "internet_service     0\n",
       "online_security      0\n",
       "online_backup        0\n",
       "device_protection    0\n",
       "tech_support         0\n",
       "streaming_t_v        0\n",
       "streaming_movies     0\n",
       "dtype: int64"
      ]
     },
     "execution_count": 28,
     "metadata": {},
     "output_type": "execute_result"
    }
   ],
   "source": [
    "# Check for missing values\n",
    "df_internet.isnull().sum()"
   ]
  },
  {
   "cell_type": "code",
   "execution_count": 29,
   "metadata": {},
   "outputs": [
    {
     "data": {
      "text/plain": [
       "0"
      ]
     },
     "execution_count": 29,
     "metadata": {},
     "output_type": "execute_result"
    }
   ],
   "source": [
    "#Check for duplicate values\n",
    "df_internet.duplicated().sum()"
   ]
  },
  {
   "cell_type": "code",
   "execution_count": 30,
   "metadata": {},
   "outputs": [
    {
     "data": {
      "text/plain": [
       "customer_i_d      0\n",
       "multiple_lines    0\n",
       "dtype: int64"
      ]
     },
     "execution_count": 30,
     "metadata": {},
     "output_type": "execute_result"
    }
   ],
   "source": [
    "# Check for missing values\n",
    "df_phone.isnull().sum()"
   ]
  },
  {
   "cell_type": "code",
   "execution_count": 31,
   "metadata": {},
   "outputs": [
    {
     "data": {
      "text/plain": [
       "0"
      ]
     },
     "execution_count": 31,
     "metadata": {},
     "output_type": "execute_result"
    }
   ],
   "source": [
    "#Check for duplicate values\n",
    "df_phone.duplicated().sum()"
   ]
  },
  {
   "cell_type": "code",
   "execution_count": 32,
   "metadata": {},
   "outputs": [
    {
     "data": {
      "text/html": [
       "<div>\n",
       "<style scoped>\n",
       "    .dataframe tbody tr th:only-of-type {\n",
       "        vertical-align: middle;\n",
       "    }\n",
       "\n",
       "    .dataframe tbody tr th {\n",
       "        vertical-align: top;\n",
       "    }\n",
       "\n",
       "    .dataframe thead th {\n",
       "        text-align: right;\n",
       "    }\n",
       "</style>\n",
       "<table border=\"1\" class=\"dataframe\">\n",
       "  <thead>\n",
       "    <tr style=\"text-align: right;\">\n",
       "      <th></th>\n",
       "      <th>customer_i_d</th>\n",
       "      <th>begin_date</th>\n",
       "      <th>type</th>\n",
       "      <th>paperless_billing</th>\n",
       "      <th>payment_method</th>\n",
       "      <th>monthly_charges</th>\n",
       "      <th>total_charges</th>\n",
       "      <th>churn</th>\n",
       "      <th>gender</th>\n",
       "      <th>senior_citizen</th>\n",
       "      <th>partner</th>\n",
       "      <th>dependents</th>\n",
       "      <th>internet_service</th>\n",
       "      <th>online_security</th>\n",
       "      <th>online_backup</th>\n",
       "      <th>device_protection</th>\n",
       "      <th>tech_support</th>\n",
       "      <th>streaming_t_v</th>\n",
       "      <th>streaming_movies</th>\n",
       "      <th>multiple_lines</th>\n",
       "    </tr>\n",
       "  </thead>\n",
       "  <tbody>\n",
       "    <tr>\n",
       "      <th>0</th>\n",
       "      <td>7590-VHVEG</td>\n",
       "      <td>2020-01-01</td>\n",
       "      <td>Month-to-month</td>\n",
       "      <td>Yes</td>\n",
       "      <td>Electronic check</td>\n",
       "      <td>29.85</td>\n",
       "      <td>29.85</td>\n",
       "      <td>0</td>\n",
       "      <td>Female</td>\n",
       "      <td>0</td>\n",
       "      <td>Yes</td>\n",
       "      <td>No</td>\n",
       "      <td>DSL</td>\n",
       "      <td>No</td>\n",
       "      <td>Yes</td>\n",
       "      <td>No</td>\n",
       "      <td>No</td>\n",
       "      <td>No</td>\n",
       "      <td>No</td>\n",
       "      <td>NaN</td>\n",
       "    </tr>\n",
       "    <tr>\n",
       "      <th>1</th>\n",
       "      <td>5575-GNVDE</td>\n",
       "      <td>2017-04-01</td>\n",
       "      <td>One year</td>\n",
       "      <td>No</td>\n",
       "      <td>Mailed check</td>\n",
       "      <td>56.95</td>\n",
       "      <td>1889.50</td>\n",
       "      <td>0</td>\n",
       "      <td>Male</td>\n",
       "      <td>0</td>\n",
       "      <td>No</td>\n",
       "      <td>No</td>\n",
       "      <td>DSL</td>\n",
       "      <td>Yes</td>\n",
       "      <td>No</td>\n",
       "      <td>Yes</td>\n",
       "      <td>No</td>\n",
       "      <td>No</td>\n",
       "      <td>No</td>\n",
       "      <td>No</td>\n",
       "    </tr>\n",
       "    <tr>\n",
       "      <th>2</th>\n",
       "      <td>3668-QPYBK</td>\n",
       "      <td>2019-10-01</td>\n",
       "      <td>Month-to-month</td>\n",
       "      <td>Yes</td>\n",
       "      <td>Mailed check</td>\n",
       "      <td>53.85</td>\n",
       "      <td>108.15</td>\n",
       "      <td>1</td>\n",
       "      <td>Male</td>\n",
       "      <td>0</td>\n",
       "      <td>No</td>\n",
       "      <td>No</td>\n",
       "      <td>DSL</td>\n",
       "      <td>Yes</td>\n",
       "      <td>Yes</td>\n",
       "      <td>No</td>\n",
       "      <td>No</td>\n",
       "      <td>No</td>\n",
       "      <td>No</td>\n",
       "      <td>No</td>\n",
       "    </tr>\n",
       "    <tr>\n",
       "      <th>3</th>\n",
       "      <td>7795-CFOCW</td>\n",
       "      <td>2016-05-01</td>\n",
       "      <td>One year</td>\n",
       "      <td>No</td>\n",
       "      <td>Bank transfer (automatic)</td>\n",
       "      <td>42.30</td>\n",
       "      <td>1840.75</td>\n",
       "      <td>0</td>\n",
       "      <td>Male</td>\n",
       "      <td>0</td>\n",
       "      <td>No</td>\n",
       "      <td>No</td>\n",
       "      <td>DSL</td>\n",
       "      <td>Yes</td>\n",
       "      <td>No</td>\n",
       "      <td>Yes</td>\n",
       "      <td>Yes</td>\n",
       "      <td>No</td>\n",
       "      <td>No</td>\n",
       "      <td>NaN</td>\n",
       "    </tr>\n",
       "    <tr>\n",
       "      <th>4</th>\n",
       "      <td>9237-HQITU</td>\n",
       "      <td>2019-09-01</td>\n",
       "      <td>Month-to-month</td>\n",
       "      <td>Yes</td>\n",
       "      <td>Electronic check</td>\n",
       "      <td>70.70</td>\n",
       "      <td>151.65</td>\n",
       "      <td>1</td>\n",
       "      <td>Female</td>\n",
       "      <td>0</td>\n",
       "      <td>No</td>\n",
       "      <td>No</td>\n",
       "      <td>Fiber optic</td>\n",
       "      <td>No</td>\n",
       "      <td>No</td>\n",
       "      <td>No</td>\n",
       "      <td>No</td>\n",
       "      <td>No</td>\n",
       "      <td>No</td>\n",
       "      <td>No</td>\n",
       "    </tr>\n",
       "    <tr>\n",
       "      <th>...</th>\n",
       "      <td>...</td>\n",
       "      <td>...</td>\n",
       "      <td>...</td>\n",
       "      <td>...</td>\n",
       "      <td>...</td>\n",
       "      <td>...</td>\n",
       "      <td>...</td>\n",
       "      <td>...</td>\n",
       "      <td>...</td>\n",
       "      <td>...</td>\n",
       "      <td>...</td>\n",
       "      <td>...</td>\n",
       "      <td>...</td>\n",
       "      <td>...</td>\n",
       "      <td>...</td>\n",
       "      <td>...</td>\n",
       "      <td>...</td>\n",
       "      <td>...</td>\n",
       "      <td>...</td>\n",
       "      <td>...</td>\n",
       "    </tr>\n",
       "    <tr>\n",
       "      <th>7027</th>\n",
       "      <td>6840-RESVB</td>\n",
       "      <td>2018-02-01</td>\n",
       "      <td>One year</td>\n",
       "      <td>Yes</td>\n",
       "      <td>Mailed check</td>\n",
       "      <td>84.80</td>\n",
       "      <td>1990.50</td>\n",
       "      <td>0</td>\n",
       "      <td>Male</td>\n",
       "      <td>0</td>\n",
       "      <td>Yes</td>\n",
       "      <td>Yes</td>\n",
       "      <td>DSL</td>\n",
       "      <td>Yes</td>\n",
       "      <td>No</td>\n",
       "      <td>Yes</td>\n",
       "      <td>Yes</td>\n",
       "      <td>Yes</td>\n",
       "      <td>Yes</td>\n",
       "      <td>Yes</td>\n",
       "    </tr>\n",
       "    <tr>\n",
       "      <th>7028</th>\n",
       "      <td>2234-XADUH</td>\n",
       "      <td>2014-02-01</td>\n",
       "      <td>One year</td>\n",
       "      <td>Yes</td>\n",
       "      <td>Credit card (automatic)</td>\n",
       "      <td>103.20</td>\n",
       "      <td>7362.90</td>\n",
       "      <td>0</td>\n",
       "      <td>Female</td>\n",
       "      <td>0</td>\n",
       "      <td>Yes</td>\n",
       "      <td>Yes</td>\n",
       "      <td>Fiber optic</td>\n",
       "      <td>No</td>\n",
       "      <td>Yes</td>\n",
       "      <td>Yes</td>\n",
       "      <td>No</td>\n",
       "      <td>Yes</td>\n",
       "      <td>Yes</td>\n",
       "      <td>Yes</td>\n",
       "    </tr>\n",
       "    <tr>\n",
       "      <th>7029</th>\n",
       "      <td>4801-JZAZL</td>\n",
       "      <td>2019-03-01</td>\n",
       "      <td>Month-to-month</td>\n",
       "      <td>Yes</td>\n",
       "      <td>Electronic check</td>\n",
       "      <td>29.60</td>\n",
       "      <td>346.45</td>\n",
       "      <td>0</td>\n",
       "      <td>Female</td>\n",
       "      <td>0</td>\n",
       "      <td>Yes</td>\n",
       "      <td>Yes</td>\n",
       "      <td>DSL</td>\n",
       "      <td>Yes</td>\n",
       "      <td>No</td>\n",
       "      <td>No</td>\n",
       "      <td>No</td>\n",
       "      <td>No</td>\n",
       "      <td>No</td>\n",
       "      <td>NaN</td>\n",
       "    </tr>\n",
       "    <tr>\n",
       "      <th>7030</th>\n",
       "      <td>8361-LTMKD</td>\n",
       "      <td>2019-07-01</td>\n",
       "      <td>Month-to-month</td>\n",
       "      <td>Yes</td>\n",
       "      <td>Mailed check</td>\n",
       "      <td>74.40</td>\n",
       "      <td>306.60</td>\n",
       "      <td>1</td>\n",
       "      <td>Male</td>\n",
       "      <td>1</td>\n",
       "      <td>Yes</td>\n",
       "      <td>No</td>\n",
       "      <td>Fiber optic</td>\n",
       "      <td>No</td>\n",
       "      <td>No</td>\n",
       "      <td>No</td>\n",
       "      <td>No</td>\n",
       "      <td>No</td>\n",
       "      <td>No</td>\n",
       "      <td>Yes</td>\n",
       "    </tr>\n",
       "    <tr>\n",
       "      <th>7031</th>\n",
       "      <td>3186-AJIEK</td>\n",
       "      <td>2014-08-01</td>\n",
       "      <td>Two year</td>\n",
       "      <td>Yes</td>\n",
       "      <td>Bank transfer (automatic)</td>\n",
       "      <td>105.65</td>\n",
       "      <td>6844.50</td>\n",
       "      <td>0</td>\n",
       "      <td>Male</td>\n",
       "      <td>0</td>\n",
       "      <td>No</td>\n",
       "      <td>No</td>\n",
       "      <td>Fiber optic</td>\n",
       "      <td>Yes</td>\n",
       "      <td>No</td>\n",
       "      <td>Yes</td>\n",
       "      <td>Yes</td>\n",
       "      <td>Yes</td>\n",
       "      <td>Yes</td>\n",
       "      <td>No</td>\n",
       "    </tr>\n",
       "  </tbody>\n",
       "</table>\n",
       "<p>7032 rows × 20 columns</p>\n",
       "</div>"
      ],
      "text/plain": [
       "     customer_i_d begin_date            type paperless_billing  \\\n",
       "0      7590-VHVEG 2020-01-01  Month-to-month               Yes   \n",
       "1      5575-GNVDE 2017-04-01        One year                No   \n",
       "2      3668-QPYBK 2019-10-01  Month-to-month               Yes   \n",
       "3      7795-CFOCW 2016-05-01        One year                No   \n",
       "4      9237-HQITU 2019-09-01  Month-to-month               Yes   \n",
       "...           ...        ...             ...               ...   \n",
       "7027   6840-RESVB 2018-02-01        One year               Yes   \n",
       "7028   2234-XADUH 2014-02-01        One year               Yes   \n",
       "7029   4801-JZAZL 2019-03-01  Month-to-month               Yes   \n",
       "7030   8361-LTMKD 2019-07-01  Month-to-month               Yes   \n",
       "7031   3186-AJIEK 2014-08-01        Two year               Yes   \n",
       "\n",
       "                 payment_method  monthly_charges  total_charges  churn  \\\n",
       "0              Electronic check            29.85          29.85      0   \n",
       "1                  Mailed check            56.95        1889.50      0   \n",
       "2                  Mailed check            53.85         108.15      1   \n",
       "3     Bank transfer (automatic)            42.30        1840.75      0   \n",
       "4              Electronic check            70.70         151.65      1   \n",
       "...                         ...              ...            ...    ...   \n",
       "7027               Mailed check            84.80        1990.50      0   \n",
       "7028    Credit card (automatic)           103.20        7362.90      0   \n",
       "7029           Electronic check            29.60         346.45      0   \n",
       "7030               Mailed check            74.40         306.60      1   \n",
       "7031  Bank transfer (automatic)           105.65        6844.50      0   \n",
       "\n",
       "      gender  senior_citizen partner dependents internet_service  \\\n",
       "0     Female               0     Yes         No              DSL   \n",
       "1       Male               0      No         No              DSL   \n",
       "2       Male               0      No         No              DSL   \n",
       "3       Male               0      No         No              DSL   \n",
       "4     Female               0      No         No      Fiber optic   \n",
       "...      ...             ...     ...        ...              ...   \n",
       "7027    Male               0     Yes        Yes              DSL   \n",
       "7028  Female               0     Yes        Yes      Fiber optic   \n",
       "7029  Female               0     Yes        Yes              DSL   \n",
       "7030    Male               1     Yes         No      Fiber optic   \n",
       "7031    Male               0      No         No      Fiber optic   \n",
       "\n",
       "     online_security online_backup device_protection tech_support  \\\n",
       "0                 No           Yes                No           No   \n",
       "1                Yes            No               Yes           No   \n",
       "2                Yes           Yes                No           No   \n",
       "3                Yes            No               Yes          Yes   \n",
       "4                 No            No                No           No   \n",
       "...              ...           ...               ...          ...   \n",
       "7027             Yes            No               Yes          Yes   \n",
       "7028              No           Yes               Yes           No   \n",
       "7029             Yes            No                No           No   \n",
       "7030              No            No                No           No   \n",
       "7031             Yes            No               Yes          Yes   \n",
       "\n",
       "     streaming_t_v streaming_movies multiple_lines  \n",
       "0               No               No            NaN  \n",
       "1               No               No             No  \n",
       "2               No               No             No  \n",
       "3               No               No            NaN  \n",
       "4               No               No             No  \n",
       "...            ...              ...            ...  \n",
       "7027           Yes              Yes            Yes  \n",
       "7028           Yes              Yes            Yes  \n",
       "7029            No               No            NaN  \n",
       "7030            No               No            Yes  \n",
       "7031           Yes              Yes             No  \n",
       "\n",
       "[7032 rows x 20 columns]"
      ]
     },
     "metadata": {},
     "output_type": "display_data"
    }
   ],
   "source": [
    "# Merge the dataframe\n",
    "df = df_contract.merge(df_personal, on='customer_i_d', how='left') \\\n",
    "                       .merge(df_internet, on='customer_i_d', how='left') \\\n",
    "                       .merge(df_phone, on='customer_i_d', how='left')\n",
    "display(df)"
   ]
  },
  {
   "cell_type": "code",
   "execution_count": 33,
   "metadata": {},
   "outputs": [
    {
     "name": "stdout",
     "output_type": "stream",
     "text": [
      "<class 'pandas.core.frame.DataFrame'>\n",
      "Int64Index: 7032 entries, 0 to 7031\n",
      "Data columns (total 20 columns):\n",
      " #   Column             Non-Null Count  Dtype         \n",
      "---  ------             --------------  -----         \n",
      " 0   customer_i_d       7032 non-null   object        \n",
      " 1   begin_date         7032 non-null   datetime64[ns]\n",
      " 2   type               7032 non-null   object        \n",
      " 3   paperless_billing  7032 non-null   object        \n",
      " 4   payment_method     7032 non-null   object        \n",
      " 5   monthly_charges    7032 non-null   float64       \n",
      " 6   total_charges      7032 non-null   float64       \n",
      " 7   churn              7032 non-null   int64         \n",
      " 8   gender             7032 non-null   object        \n",
      " 9   senior_citizen     7032 non-null   int64         \n",
      " 10  partner            7032 non-null   object        \n",
      " 11  dependents         7032 non-null   object        \n",
      " 12  internet_service   5512 non-null   object        \n",
      " 13  online_security    5512 non-null   object        \n",
      " 14  online_backup      5512 non-null   object        \n",
      " 15  device_protection  5512 non-null   object        \n",
      " 16  tech_support       5512 non-null   object        \n",
      " 17  streaming_t_v      5512 non-null   object        \n",
      " 18  streaming_movies   5512 non-null   object        \n",
      " 19  multiple_lines     6352 non-null   object        \n",
      "dtypes: datetime64[ns](1), float64(2), int64(2), object(15)\n",
      "memory usage: 1.1+ MB\n"
     ]
    }
   ],
   "source": [
    "df.info()"
   ]
  },
  {
   "cell_type": "code",
   "execution_count": 34,
   "metadata": {},
   "outputs": [
    {
     "data": {
      "text/plain": [
       "customer_i_d            0\n",
       "begin_date              0\n",
       "type                    0\n",
       "paperless_billing       0\n",
       "payment_method          0\n",
       "monthly_charges         0\n",
       "total_charges           0\n",
       "churn                   0\n",
       "gender                  0\n",
       "senior_citizen          0\n",
       "partner                 0\n",
       "dependents              0\n",
       "internet_service     1520\n",
       "online_security      1520\n",
       "online_backup        1520\n",
       "device_protection    1520\n",
       "tech_support         1520\n",
       "streaming_t_v        1520\n",
       "streaming_movies     1520\n",
       "multiple_lines        680\n",
       "dtype: int64"
      ]
     },
     "execution_count": 34,
     "metadata": {},
     "output_type": "execute_result"
    }
   ],
   "source": [
    "# Check for missing values\n",
    "df.isnull().sum()"
   ]
  },
  {
   "cell_type": "code",
   "execution_count": 35,
   "metadata": {},
   "outputs": [],
   "source": [
    "# Fill missing values\n",
    "df.fillna('missing', inplace=True)"
   ]
  },
  {
   "cell_type": "code",
   "execution_count": 36,
   "metadata": {},
   "outputs": [
    {
     "data": {
      "text/plain": [
       "customer_i_d         0\n",
       "begin_date           0\n",
       "type                 0\n",
       "paperless_billing    0\n",
       "payment_method       0\n",
       "monthly_charges      0\n",
       "total_charges        0\n",
       "churn                0\n",
       "gender               0\n",
       "senior_citizen       0\n",
       "partner              0\n",
       "dependents           0\n",
       "internet_service     0\n",
       "online_security      0\n",
       "online_backup        0\n",
       "device_protection    0\n",
       "tech_support         0\n",
       "streaming_t_v        0\n",
       "streaming_movies     0\n",
       "multiple_lines       0\n",
       "dtype: int64"
      ]
     },
     "execution_count": 36,
     "metadata": {},
     "output_type": "execute_result"
    }
   ],
   "source": [
    "#Recheck for missing values\n",
    "df.isnull().sum()"
   ]
  },
  {
   "cell_type": "code",
   "execution_count": 37,
   "metadata": {},
   "outputs": [
    {
     "data": {
      "text/plain": [
       "0"
      ]
     },
     "execution_count": 37,
     "metadata": {},
     "output_type": "execute_result"
    }
   ],
   "source": [
    "# Check for duplicates\n",
    "df.duplicated().sum()"
   ]
  },
  {
   "cell_type": "markdown",
   "metadata": {},
   "source": [
    "After merging the datasets on Customer ID, the combined data provides a comprehensive view of each customer’s information. Missing values were carefully handled to ensure data quality and integrity, including appropriate imputation or removal where necessary. Data types were converted to their correct formats (e.g., dates to datetime) to facilitate accurate analysis.\n",
    "The target variable, churn, was defined as a binary indicator, with 1 representing customers who have churned and 0 representing those who have stayed. This clear definition of the target enables the application of predictive modeling techniques to understand and forecast customer churn behavior effectively."
   ]
  },
  {
   "cell_type": "markdown",
   "metadata": {},
   "source": [
    "## Exploratory data analysis:\n",
    "Objectives\n",
    "- Determine churn Vs non churn\n",
    "- Examine is there any factors like gender, type etc affect the churn rate\n",
    "- Examine the class imbalace and expect that churn is the minority class\n",
    "- Visualize the correlation between different services"
   ]
  },
  {
   "cell_type": "code",
   "execution_count": 38,
   "metadata": {},
   "outputs": [
    {
     "data": {
      "image/png": "[encoded data removed]",
      "text/plain": [
       "<Figure size 640x480 with 1 Axes>"
      ]
     },
     "metadata": {},
     "output_type": "display_data"
    }
   ],
   "source": [
    "# Churn Distribution: Plot active Vs churned customers\n",
    "sns.countplot(data=df, x='churn')\n",
    "plt.title('Churn Distribution')\n",
    "plt.xlabel('Churn (1 = Yes, 0 = No)')\n",
    "plt.ylabel('Count')\n",
    "plt.show()"
   ]
  },
  {
   "cell_type": "code",
   "execution_count": 39,
   "metadata": {},
   "outputs": [
    {
     "data": {
      "text/plain": [
       "0    5163\n",
       "1    1869\n",
       "Name: churn, dtype: int64"
      ]
     },
     "execution_count": 39,
     "metadata": {},
     "output_type": "execute_result"
    }
   ],
   "source": [
    "df['churn'].value_counts()"
   ]
  },
  {
   "cell_type": "code",
   "execution_count": 40,
   "metadata": {},
   "outputs": [
    {
     "name": "stdout",
     "output_type": "stream",
     "text": [
      " Churn Rate: 26.58%\n"
     ]
    }
   ],
   "source": [
    "#Percentage Rate\n",
    "churn_rate = df['churn'].mean()\n",
    "print(f\" Churn Rate: {churn_rate:.2%}\")"
   ]
  },
  {
   "cell_type": "markdown",
   "metadata": {},
   "source": [
    "The dataset contains 7,032 customers, of which 1,869 have churned (labeled as 1) and 5,163 have remained (0). This results in a churn rate of 26.58%, confirming that churners represent the minority class in the dataset. Also, the churn rate indicates that approximately one in four customers discontinue the service. Understanding and predicting this churn behavior is critical for developing effective retention strategies."
   ]
  },
  {
   "cell_type": "code",
   "execution_count": 41,
   "metadata": {},
   "outputs": [
    {
     "data": {
      "image/png": "[encoded data removed]",
      "text/plain": [
       "<Figure size 640x480 with 1 Axes>"
      ]
     },
     "metadata": {},
     "output_type": "display_data"
    },
    {
     "name": "stdout",
     "output_type": "stream",
     "text": [
      "type\n",
      "Month-to-month    42.709677\n",
      "One year          11.277174\n",
      "Two year           2.848665\n",
      "Name: churn, dtype: float64\n"
     ]
    }
   ],
   "source": [
    "# Churn rate by contract type\n",
    "sns.barplot(data=df, x='type', y='churn')\n",
    "plt.title('Churn Rate by Contract Type')\n",
    "plt.show()\n",
    "# Churn rate(%) by contract type\n",
    "churn_rate = df.groupby('type')['churn'].mean() * 100\n",
    "print(churn_rate)"
   ]
  },
  {
   "cell_type": "markdown",
   "metadata": {},
   "source": [
    "From the above barplot and results it is clear that,the churn rates vary significantly across contract types:\n",
    "\n",
    "- Customers on Month-to-month contracts have the highest churn rate at approximately 42.7%, indicating a large proportion of these customers discontinue service relatively quickly.\n",
    "- Those with One-year contracts show a much lower churn rate of about 11.3%, suggesting better customer retention.\n",
    "- Customers with Two-year contracts exhibit the lowest churn rate at around 2.8%, reflecting strong loyalty or contract commitment over a longer term.\n",
    "\n",
    "These differences highlight the impact of contract length on customer churn, with shorter-term contracts associated with higher churn risk. This insight can guide retention efforts to focus on month-to-month customers who are most likely to leave."
   ]
  },
  {
   "cell_type": "code",
   "execution_count": 42,
   "metadata": {},
   "outputs": [
    {
     "data": {
      "image/png": "[encoded data removed]",
      "text/plain": [
       "<Figure size 640x480 with 1 Axes>"
      ]
     },
     "metadata": {},
     "output_type": "display_data"
    }
   ],
   "source": [
    "# Churn rate by gender type and senior citizen\n",
    "sns.barplot(data=df, x='gender', y='churn', hue='senior_citizen')\n",
    "plt.title('Churn Rate by Gender and Senior Citizen Status')\n",
    "plt.show()"
   ]
  },
  {
   "cell_type": "markdown",
   "metadata": {},
   "source": [
    "The grouped barplot illustrates the churn rate (as a percentage) segmented by gender and senior citizen status. Each gender category (Male and Female) is further divided into two bars representing whether the customer is a senior citizen (1) or not (0). From the visualization, we can observe:\n",
    "\n",
    "- Churn rates vary slightly between genders, but the difference is not substantial.\n",
    "- Senior citizens consistently show a higher churn rate across both gender groups.\n",
    "- For both males and females, non-senior customers have a lower churn rate, suggesting age-related factors may contribute to churn behavior."
   ]
  },
  {
   "cell_type": "code",
   "execution_count": 43,
   "metadata": {},
   "outputs": [
    {
     "data": {
      "image/png": "[encoded data removed]",
      "text/plain": [
       "<Figure size 1000x500 with 1 Axes>"
      ]
     },
     "metadata": {},
     "output_type": "display_data"
    },
    {
     "name": "stdout",
     "output_type": "stream",
     "text": [
      "payment_method\n",
      "Bank transfer (automatic)    16.731518\n",
      "Credit card (automatic)      15.253123\n",
      "Electronic check             45.285412\n",
      "Mailed check                 19.201995\n",
      "Name: churn, dtype: float64\n"
     ]
    }
   ],
   "source": [
    "# Churn rate by payment method\n",
    "plt.figure(figsize=(10,5))\n",
    "sns.barplot(data=df, x='payment_method', y='churn')\n",
    "plt.title('Churn Rate by Payment Method')\n",
    "plt.xticks(rotation=45)\n",
    "plt.show()\n",
    "# Churn rate(%) by payment method\n",
    "churn_rate = df.groupby('payment_method')['churn'].mean() * 100.\n",
    "print(churn_rate)"
   ]
  },
  {
   "cell_type": "markdown",
   "metadata": {},
   "source": [
    "From the above barplot and results it is clear that, the churn rate varies significantly across different payment methods, indicating that billing preferences may influence customer retention:\n",
    "\n",
    "- Customers using Electronic check have the highest churn rate at 45.29%, which is substantially above average.\n",
    "- Those using Mailed check have a moderate churn rate of 19.20%.\n",
    "- In contrast, automatic payment methods such as Bank transfer (16.73%) and Credit card (15.25%) are associated with the lowest churn rates.\n",
    "\n",
    "This pattern implies that customers who opt for automatic payments are more likely to remain subscribed, possibly due to increased convenience or reduced likelihood of service interruption. It also highlights Electronic check users as a high-risk segment for churn, meriting further investigation or targeted retention efforts."
   ]
  },
  {
   "cell_type": "code",
   "execution_count": 44,
   "metadata": {},
   "outputs": [
    {
     "data": {
      "image/png": "[encoded data removed]",
      "text/plain": [
       "<Figure size 640x480 with 1 Axes>"
      ]
     },
     "metadata": {},
     "output_type": "display_data"
    },
    {
     "data": {
      "image/png": "[encoded data removed]",
      "text/plain": [
       "<Figure size 640x480 with 1 Axes>"
      ]
     },
     "metadata": {},
     "output_type": "display_data"
    }
   ],
   "source": [
    "# Distribution of monthly charges\n",
    "sns.histplot(df['monthly_charges'], bins=30, kde=True)\n",
    "plt.title('Monthly Charges Distribution')\n",
    "plt.show()\n",
    "# Boxplot of Monthly Charges vs Churn\n",
    "sns.boxplot(data=df, x='churn', y='monthly_charges')\n",
    "plt.title('Monthly Charges vs Churn')\n",
    "plt.show()"
   ]
  },
  {
   "cell_type": "markdown",
   "metadata": {},
   "source": [
    "The histogram with a KDE curve shows that monthly charges are not normally distributed. The plot indicates that while most customers pay a moderate monthly fee, a smaller portion are on higher-priced plans, which could be due to premium services or add-ons. The boxplot compares the distribution of monthly_charges between churned (churn = 1) and non-churned (churn = 0) customers. Key observations are:\n",
    "\n",
    "- Median monthly charges are higher for churned customers.\n",
    "- Non-churned customers have lower and more tightly clustered monthly charges. This suggests a positive correlation between higher monthly charges and churn, possibly indicating price sensitivity among customers or dissatisfaction with value received at higher price points.\n"
   ]
  },
  {
   "cell_type": "code",
   "execution_count": 45,
   "metadata": {},
   "outputs": [
    {
     "data": {
      "image/png": "[encoded data removed]",
      "text/plain": [
       "<Figure size 640x480 with 1 Axes>"
      ]
     },
     "metadata": {},
     "output_type": "display_data"
    },
    {
     "data": {
      "image/png": "[encoded data removed]",
      "text/plain": [
       "<Figure size 640x480 with 1 Axes>"
      ]
     },
     "metadata": {},
     "output_type": "display_data"
    }
   ],
   "source": [
    "# Distribution of total charges\n",
    "sns.histplot(df['total_charges'], bins=30, kde=True)\n",
    "plt.title('Total Charges Distribution')\n",
    "plt.show()\n",
    "# Boxplot of Monthly Charges vs Churn\n",
    "sns.boxplot(data=df, x='churn', y='total_charges')\n",
    "plt.title('Total Charges vs Churn')\n",
    "plt.show()"
   ]
  },
  {
   "cell_type": "markdown",
   "metadata": {},
   "source": [
    "The histogram of total_charges shows a right-skewed distribution, with most customers having relatively low to moderate total charges and a long tail extending toward higher values. The KDE curve confirms the skewness, highlighting a high concentration of customers at the lower end of total charges. The boxplot reveals clear differences in total charges between churned (churn = 1) and non-churned (churn = 0) customers:\n",
    "\n",
    "- The median total charges for churned customers is significantly lower than for those who stayed.\n",
    "- Churned customers also show a narrower interquartile range, indicating less variation in total charges\n",
    "- Non-churned customers have higher and more variable total charges, consistent with longer tenure and continued service usage."
   ]
  },
  {
   "cell_type": "code",
   "execution_count": 46,
   "metadata": {},
   "outputs": [
    {
     "data": {
      "image/png": "[encoded data removed]",
      "text/plain": [
       "<Figure size 640x480 with 1 Axes>"
      ]
     },
     "metadata": {},
     "output_type": "display_data"
    },
    {
     "name": "stdout",
     "output_type": "stream",
     "text": [
      "internet_service\n",
      "DSL            18.998344\n",
      "Fiber optic    41.892765\n",
      "missing         7.434211\n",
      "Name: churn, dtype: float64\n"
     ]
    }
   ],
   "source": [
    "# Churn rate by internet service\n",
    "sns.barplot(data=df, x='internet_service', y='churn')\n",
    "plt.title('Churn by Internet Service')\n",
    "plt.show()\n",
    "# Churn rate(%) by internet service\n",
    "churn_rate = df.groupby('internet_service')['churn'].mean() * 100.\n",
    "print(churn_rate)"
   ]
  },
  {
   "cell_type": "markdown",
   "metadata": {},
   "source": [
    "The churn rate varies notably across different types of internet services. These differences highlight that internet service type is a strong predictor of churn.:\n",
    "\n",
    "- Fiber optic customers show the highest churn rate at 41.89%, indicating a significantly elevated risk of service cancellation. This may suggest issues related to pricing, performance expectations, or service satisfaction among high-speed users.\n",
    "- DSL customers have a lower churn rate of 18.99%, suggesting relatively higher satisfaction compared to fiber optic"
   ]
  },
  {
   "cell_type": "code",
   "execution_count": 47,
   "metadata": {},
   "outputs": [
    {
     "data": {
      "image/png": "[encoded data removed]",
      "text/plain": [
       "<Figure size 1200x600 with 1 Axes>"
      ]
     },
     "metadata": {},
     "output_type": "display_data"
    }
   ],
   "source": [
    "# Different services Vs churn\n",
    "services = ['online_security', 'online_backup', 'tech_support', 'streaming_t_v', 'streaming_movies']\n",
    "\n",
    "df_melted = df.melt(id_vars='churn', value_vars=services,\n",
    "                    var_name='Service', value_name='Subscribed')\n",
    "\n",
    "# Plot\n",
    "plt.figure(figsize=(12, 6))\n",
    "sns.countplot(data=df_melted, x='Service', hue='Subscribed', palette='Set1', dodge=True)\n",
    "plt.title('Service Subscription by Churn')\n",
    "plt.xlabel('Service')\n",
    "plt.ylabel('Customer Count')\n",
    "plt.xticks(rotation=45)\n",
    "plt.legend(title='Subscribed (Yes/No)')\n",
    "plt.tight_layout()\n",
    "plt.show()"
   ]
  },
  {
   "cell_type": "markdown",
   "metadata": {},
   "source": [
    "The plot shows customer counts for each service, broken down by whether the service was subscribed to (Yes or No) and whether the customer churned.\n",
    "\n",
    "- For online security, online backup, and tech support, churn is noticeably higher among customers who did not subscribe to these services. This implies that lack of engagement with support and security-related services may correlate with higher churn.\n",
    "- In contrast, for streaming TV and streaming movies, the number of churned customers is almost equal among those who did subscribe, indicating that these entertainment services are not a big factor for leaving the connection."
   ]
  },
  {
   "cell_type": "code",
   "execution_count": 48,
   "metadata": {},
   "outputs": [
    {
     "data": {
      "image/png": "[encoded data removed]",
      "text/plain": [
       "<Figure size 1200x1000 with 2 Axes>"
      ]
     },
     "metadata": {},
     "output_type": "display_data"
    }
   ],
   "source": [
    "#Corelation heatmap displays corelation between quantitative features:\n",
    "plt.figure(figsize=(12,10))\n",
    "sns.heatmap(df.corr(), annot=True, fmt=\".2f\", cmap='coolwarm')\n",
    "plt.show()"
   ]
  },
  {
   "cell_type": "markdown",
   "metadata": {},
   "source": [
    "The correlation heatmap provides a visual representation of the linear relationships between the quantitative (numerical) features in the dataset. Each cell in the heatmap shows the Pearson correlation coefficient between two variables, ranging from -1 (perfect negative correlation) to +1 (perfect positive correlation), with values near 0 indicating no linear correlation."
   ]
  },
  {
   "cell_type": "code",
   "execution_count": 49,
   "metadata": {},
   "outputs": [
    {
     "data": {
      "image/png": "[encoded data removed]",
      "text/plain": [
       "<Figure size 1200x1200 with 20 Axes>"
      ]
     },
     "metadata": {},
     "output_type": "display_data"
    }
   ],
   "source": [
    "#Pair plot\n",
    "g = sns.pairplot(df, kind='hist')\n",
    "g.fig.set_size_inches(12, 12)"
   ]
  },
  {
   "cell_type": "markdown",
   "metadata": {},
   "source": [
    "This histogram-based pair plot provides a quick overview of the distributions of all numeric variables, making it useful for spotting:Skewness, Outliers, Data range, Imbalance in binary features etc."
   ]
  },
  {
   "cell_type": "markdown",
   "metadata": {},
   "source": [
    "The EDA phase provided comprehensive insights into the customer dataset and identified key patterns and variables associated with churn:\n",
    "- Approximately 26.58% of customers have churned, confirming a moderate class imbalance, with churn being the minority class.This imbalance should be addressed during modeling (e.g., using class weights or resampling).\n",
    "- Senior citizens have a higher churn rate across both genders.\n",
    "- Gender alone does not show significant difference in churn behavior.\n",
    "- Month-to-month contracts have the highest churn rate (42.7%), while two-year contracts have the lowest (2.8%), indicating longer commitments reduce churn.\n",
    "- Electronic check users have the highest churn (45.3%), while automatic payments (bank transfer/credit card) are linked with much lower churn rates (15–20%).\n",
    "- Customers not subscribed to online security, tech support, or online backup are more likely to churn, suggesting these services contribute to retention.\n",
    "- The median total charges for churned customers is significantly lower than for those who stayed.\n",
    "- Median monthly charges are higher for churned customers."
   ]
  },
  {
   "cell_type": "markdown",
   "metadata": {},
   "source": [
    "## Feature Engineering\n",
    "\n",
    "Objectives:\n",
    "- Feature extraction\n",
    "- Encoding categorical variables- One Hot Encoding\n",
    "- Normalize/Scale numerical features"
   ]
  },
  {
   "cell_type": "code",
   "execution_count": 50,
   "metadata": {},
   "outputs": [],
   "source": [
    "#Find tenure months from begin date\n",
    "reference_date = pd.to_datetime('2020-02-01')\n",
    "df['tenure_months'] = (reference_date - df['begin_date']).dt.days // 30"
   ]
  },
  {
   "cell_type": "markdown",
   "metadata": {},
   "source": [
    "<div class=\"alert alert-block alert-success\">\n",
    "<b>Reviewer's comment</b> Good job deriving tenure. \n",
    "<a class=\"tocSkip\">"
   ]
  },
  {
   "cell_type": "code",
   "execution_count": 51,
   "metadata": {},
   "outputs": [],
   "source": [
    "# Drop unneeded columns\n",
    "df.drop(['customer_i_d', 'begin_date'], axis=1, inplace=True)"
   ]
  },
  {
   "cell_type": "code",
   "execution_count": 52,
   "metadata": {},
   "outputs": [],
   "source": [
    "# Convert SeniorCitizen to categorical\n",
    "df['senior_citizen'] = df['senior_citizen'].astype(str)"
   ]
  },
  {
   "cell_type": "code",
   "execution_count": 53,
   "metadata": {},
   "outputs": [
    {
     "name": "stdout",
     "output_type": "stream",
     "text": [
      "<class 'pandas.core.frame.DataFrame'>\n",
      "Int64Index: 7032 entries, 0 to 7031\n",
      "Data columns (total 19 columns):\n",
      " #   Column             Non-Null Count  Dtype  \n",
      "---  ------             --------------  -----  \n",
      " 0   type               7032 non-null   object \n",
      " 1   paperless_billing  7032 non-null   object \n",
      " 2   payment_method     7032 non-null   object \n",
      " 3   monthly_charges    7032 non-null   float64\n",
      " 4   total_charges      7032 non-null   float64\n",
      " 5   churn              7032 non-null   int64  \n",
      " 6   gender             7032 non-null   object \n",
      " 7   senior_citizen     7032 non-null   object \n",
      " 8   partner            7032 non-null   object \n",
      " 9   dependents         7032 non-null   object \n",
      " 10  internet_service   7032 non-null   object \n",
      " 11  online_security    7032 non-null   object \n",
      " 12  online_backup      7032 non-null   object \n",
      " 13  device_protection  7032 non-null   object \n",
      " 14  tech_support       7032 non-null   object \n",
      " 15  streaming_t_v      7032 non-null   object \n",
      " 16  streaming_movies   7032 non-null   object \n",
      " 17  multiple_lines     7032 non-null   object \n",
      " 18  tenure_months      7032 non-null   int64  \n",
      "dtypes: float64(2), int64(2), object(15)\n",
      "memory usage: 1.3+ MB\n"
     ]
    }
   ],
   "source": [
    "df.info()"
   ]
  },
  {
   "cell_type": "code",
   "execution_count": 54,
   "metadata": {},
   "outputs": [],
   "source": [
    "#Features and target\n",
    "features =df.drop('churn', axis=1)\n",
    "target = df['churn']"
   ]
  },
  {
   "cell_type": "markdown",
   "metadata": {},
   "source": [
    "The churn column is selected as the target, while all other columns are treated as features."
   ]
  },
  {
   "cell_type": "code",
   "execution_count": 55,
   "metadata": {},
   "outputs": [],
   "source": [
    "#Numerical and categorical features\n",
    "numerical =['monthly_charges', 'total_charges','tenure_months']\n",
    "categorical = [col for col in features.columns if col not in numerical]"
   ]
  },
  {
   "cell_type": "code",
   "execution_count": 56,
   "metadata": {},
   "outputs": [],
   "source": [
    "#Split the data \n",
    "features_train, features_test, target_train, target_test = train_test_split(features, target, stratify=target, test_size=0.25, random_state=42)"
   ]
  },
  {
   "cell_type": "markdown",
   "metadata": {},
   "source": [
    "We then split the dataset into training and test sets using train_test_split, maintaining the distribution of the target variable with stratification (stratify=target), and setting aside 25% of the data for testing."
   ]
  },
  {
   "cell_type": "code",
   "execution_count": 57,
   "metadata": {},
   "outputs": [],
   "source": [
    "# Preprocessing pipeline\n",
    "preprocessor = ColumnTransformer([\n",
    "    ('num', StandardScaler(), numerical),\n",
    "    ('cat', OneHotEncoder(handle_unknown='ignore'), categorical)\n",
    "])"
   ]
  },
  {
   "cell_type": "markdown",
   "metadata": {},
   "source": [
    "The ColumnTransformer is a powerful tool from scikit-learn that allows different preprocessing steps to be applied to different subsets of features within a single pipeline. This is especially useful when working with datasets that contain both numerical and categorical data.\n",
    "In our case:\n",
    "- Numerical features are standardized using StandardScaler, which transforms them to have a mean of 0 and standard deviation of 1. This ensures that numerical values are on a comparable scale, which can improve model performance and convergence.\n",
    "- Categorical features are transformed using OneHotEncoder, converting each category into a binary vector. The handle_unknown='ignore' parameter allows the encoder to gracefully handle categories that may appear in the data."
   ]
  },
  {
   "cell_type": "markdown",
   "metadata": {},
   "source": [
    "## Modelling\n",
    "\n",
    "Objectives:\n",
    "- Compare different models like:\n",
    "  \n",
    "      * Logistic Regression(Sanity check)\n",
    "      * Decision Tree Classifier\n",
    "      * Random Forest Classifier\n",
    "      * XGBClassifier\n",
    "      * CatBoostClassifier\n",
    "      * LightGBM Classifier\n",
    "- Evaluvate on AUC ROC as first KPI\n",
    "- Track Accuracy of each model     "
   ]
  },
  {
   "cell_type": "code",
   "execution_count": 61,
   "metadata": {},
   "outputs": [
    {
     "name": "stdout",
     "output_type": "stream",
     "text": [
      "Fitting 5 folds for each of 10 candidates, totalling 50 fits\n",
      "Best Hyperparameters: {'clf__penalty': 'l2', 'clf__C': 10}\n",
      "AUC-ROC Score: 0.8307986272945462\n",
      "Accuracy Score: 0.7997724687144482\n",
      "Confusion Matrix:\n",
      " [[1146  145]\n",
      " [ 207  260]]\n"
     ]
    }
   ],
   "source": [
    "# Logistic Regression Model\n",
    "# Create pipeline with Logistic Regression\n",
    "lr_pipeline = Pipeline(steps=[\n",
    "    ('preprocessor', preprocessor),\n",
    "    ('clf', LogisticRegression(solver='liblinear', max_iter=1000))\n",
    "])\n",
    "\n",
    "# Define hyperparameter distribution\n",
    "lr_param = {\n",
    "    'clf__C': [0.01, 0.1, 1, 10, 100],\n",
    "    'clf__penalty': ['l1', 'l2']\n",
    "}\n",
    "\n",
    "# RandomizedSearchCV \n",
    "lr_search = RandomizedSearchCV(lr_pipeline,\n",
    "    param_distributions=lr_param,\n",
    "    n_iter=10,  \n",
    "    cv=5,\n",
    "    scoring='roc_auc',\n",
    "    n_jobs=-1,\n",
    "    verbose=1,\n",
    "    random_state=42\n",
    ")\n",
    "\n",
    "# Fit randomized search\n",
    "lr_search.fit(features_train, target_train)\n",
    "\n",
    "# Best model from search\n",
    "best_model = lr_search.best_estimator_\n",
    "\n",
    "# Predictions\n",
    "lr_pred = best_model.predict(features_test)\n",
    "lr_proba = best_model.predict_proba(features_test)[:, 1]\n",
    "\n",
    "# Evaluation\n",
    "print(\"Best Hyperparameters:\",lr_search.best_params_)\n",
    "print(\"AUC-ROC Score:\", roc_auc_score(target_test, lr_proba))\n",
    "print(\"Accuracy Score:\", accuracy_score(target_test, lr_pred))\n",
    "print(\"Confusion Matrix:\\n\", confusion_matrix(target_test, lr_pred))"
   ]
  },
  {
   "cell_type": "markdown",
   "metadata": {},
   "source": [
    "After performing hyperparameter tuning using randomized search with 5-fold cross-validation over 10 candidate parameter combinations (a total of 50 fits), the best logistic regression model was identified with the following hyperparameters:\n",
    "- Penalty: 'l2'\n",
    "- C (Inverse of regularization strength): 10\n",
    "\n",
    "Performance Metrics on the Test Set:\n",
    "- AUC-ROC Score of 0.831 indicates the model has a strong ability to distinguish between the positive (churn) and negative classes.\n",
    "- Accuracy Score of 0.800 indicates that the model correctly predicted approximately 80% of the test instances.\n",
    "- The confusion matrix shows that\n",
    "  \n",
    "      - True Negatives (TN): 1146 customers correctly predicted as non-churners\n",
    "      - False Positives (FP): 145 customers incorrectly predicted as churners\n",
    "      - False Negatives (FN): 207 churners missed by the model\n",
    "      - True Positives (TP): 260 churners correctly identified"
   ]
  },
  {
   "cell_type": "markdown",
   "metadata": {},
   "source": [
    "<div class=\"alert alert-block alert-success\">\n",
    "<b>Reviewer's comment</b> Very good commentary on the results we are seeing!\n",
    "<a class=\"tocSkip\"></\n"
   ]
  },
  {
   "cell_type": "code",
   "execution_count": 62,
   "metadata": {},
   "outputs": [
    {
     "name": "stdout",
     "output_type": "stream",
     "text": [
      "Fitting 5 folds for each of 10 candidates, totalling 50 fits\n",
      "DT Best Params: {'clf__min_samples_split': 10, 'clf__max_depth': 5, 'clf__criterion': 'gini'}\n",
      "DT AUC-ROC: 0.8611388014868212\n",
      "DT Accuracy: 0.8191126279863481\n",
      "Confusion Matrix:\n",
      " [[1171  120]\n",
      " [ 198  269]]\n"
     ]
    }
   ],
   "source": [
    "# DecisionTree Classifier Modelling\n",
    "# Define the pipeline\n",
    "dt_pipeline = Pipeline([\n",
    "    ('preprocessor', preprocessor),\n",
    "    ('clf', DecisionTreeClassifier(random_state=42))\n",
    "])\n",
    "\n",
    "# Define hyperparameter \n",
    "dt_params = {\n",
    "    'clf__max_depth': [3, 5, 10, None],\n",
    "    'clf__min_samples_split': [2, 5, 10],\n",
    "    'clf__criterion': ['gini', 'entropy']\n",
    "}\n",
    "\n",
    "# Use RandomizedSearchCV \n",
    "dt_search = RandomizedSearchCV(\n",
    "    dt_pipeline,\n",
    "    param_distributions=dt_params,\n",
    "    n_iter=10,  \n",
    "    scoring='roc_auc',\n",
    "    cv=5,\n",
    "    n_jobs=-1,\n",
    "    verbose=1,\n",
    "    random_state=42\n",
    ")\n",
    "\n",
    "# Fit the randomized search\n",
    "dt_search.fit(features_train, target_train)\n",
    "\n",
    "# Get the best estimator\n",
    "dt_best = dt_search.best_estimator_\n",
    "\n",
    "# Predict and evaluate\n",
    "dt_pred = dt_best.predict(features_test)\n",
    "dt_proba = dt_best.predict_proba(features_test)[:, 1]\n",
    "\n",
    "print(\"DT Best Params:\", dt_search.best_params_)\n",
    "print(\"DT AUC-ROC:\", roc_auc_score(target_test, dt_proba))\n",
    "print(\"DT Accuracy:\", accuracy_score(target_test, dt_pred))\n",
    "print(\"Confusion Matrix:\\n\", confusion_matrix(target_test, dt_pred))"
   ]
  },
  {
   "cell_type": "markdown",
   "metadata": {},
   "source": [
    "A Decision Tree Classifier was trained using RandomizedSearchCV to optimize hyperparameters. The randomized search evaluated 10 candidate parameter combinations using 5-fold cross-validation, resulting in a total of 50 fits.\n",
    "\n",
    "Best Hyperparameters Found:\n",
    "- Criterion: 'gini' (used to measure the quality of a split)\n",
    "- Max Depth: 5 (limits the maximum depth of the tree to prevent overfitting)\n",
    "- Min Samples Split: 10 (the minimum number of samples required to split an internal node)\n",
    "\n",
    "Performance Metrics on the Test Set:\n",
    "- AUC-ROC Score of 0.861 indicates excellent discriminative power between the churn and non-churn classes.\n",
    "- Accuracy Score of 0.819 means that the model correctly classified ~82% of the instances in the test set.\n",
    "- The confusion matrix shows that\n",
    "\n",
    "      - True Negatives (TN): 1171 non-churners correctly predicted\n",
    "      - False Positives (FP): 120 non-churners incorrectly predicted as churners\n",
    "      - False Negatives (FN): 198 churners missed by the model\n",
    "      - True Positives (TP): 269 churners correctly identified"
   ]
  },
  {
   "cell_type": "code",
   "execution_count": 63,
   "metadata": {},
   "outputs": [
    {
     "name": "stdout",
     "output_type": "stream",
     "text": [
      "Fitting 5 folds for each of 10 candidates, totalling 50 fits\n",
      "RF Best Params: {'clf__n_estimators': 200, 'clf__min_samples_split': 5, 'clf__max_features': 'sqrt', 'clf__max_depth': 10}\n",
      "RF AUC-ROC: 0.8566753525063153\n",
      "RF Accuracy: 0.8122866894197952\n",
      "Confusion Matrix:\n",
      " [[1175  116]\n",
      " [ 214  253]]\n"
     ]
    }
   ],
   "source": [
    "# RandomForest Classifier Modelling\n",
    "# Define the pipeline\n",
    "rf_pipeline = Pipeline([\n",
    "    ('preprocessor', preprocessor),\n",
    "    ('clf', RandomForestClassifier(random_state=42))\n",
    "])\n",
    "\n",
    "# Define hyperparameter distribution\n",
    "rf_params = {\n",
    "    'clf__n_estimators': [100, 200],\n",
    "    'clf__max_depth': [5, 10, None],\n",
    "    'clf__min_samples_split': [2, 5],\n",
    "    'clf__max_features': ['sqrt', 'log2']\n",
    "}\n",
    "\n",
    "# Use RandomizedSearchCV \n",
    "rf_search = RandomizedSearchCV(rf_pipeline, rf_params, scoring='roc_auc', n_iter=10, cv=5, n_jobs=-1, verbose=1)\n",
    "# Fit the randomized search\n",
    "rf_search.fit(features_train, target_train)\n",
    "\n",
    "# Get the best estimator\n",
    "rf_best = rf_search.best_estimator_\n",
    "\n",
    "# Predict and evaluate\n",
    "rf_pred = rf_best.predict(features_test)\n",
    "rf_proba = rf_best.predict_proba(features_test)[:, 1]\n",
    "\n",
    "print(\"RF Best Params:\", rf_search.best_params_)\n",
    "print(\"RF AUC-ROC:\", roc_auc_score(target_test, rf_proba))\n",
    "print(\"RF Accuracy:\", accuracy_score(target_test, rf_pred))\n",
    "print(\"Confusion Matrix:\\n\", confusion_matrix(target_test, rf_pred))"
   ]
  },
  {
   "cell_type": "markdown",
   "metadata": {},
   "source": [
    "A Random Forest Classifier was trained and optimized using RandomizedSearchCV with 5-fold cross-validation. A total of 10 hyperparameter combinations were evaluated, resulting in 50 fits.\n",
    "\n",
    "Best Hyperparameters Identified:\n",
    "- Number of Estimators (n_estimators): 200\n",
    "- Max Depth: 10\n",
    "- Min Samples Split: 5\n",
    "- Max Features: 'sqrt'\n",
    "\n",
    "Performance Metrics on the Test Set:\n",
    "- AUC-ROC Score of 0.857 indicates excellent discriminative power between the churn and non-churn classes.\n",
    "- Accuracy Score of 0.812 means that the model correctly classified ~81.2% of the instances in the test set.\n",
    "- The confusion matrix shows that\n",
    "\n",
    "      - True Negatives (TN): 1175 non-churners correctly predicted\n",
    "      - False Positives (FP): 116 non-churners incorrectly predicted as churners\n",
    "      - False Negatives (FN): 214 churners missed by the model\n",
    "      - True Positives (TP): 253 churners correctly identified"
   ]
  },
  {
   "cell_type": "code",
   "execution_count": 64,
   "metadata": {},
   "outputs": [
    {
     "name": "stdout",
     "output_type": "stream",
     "text": [
      "Fitting 3 folds for each of 5 candidates, totalling 15 fits\n",
      "XGB Best Params: {'clf__subsample': 0.8, 'clf__n_estimators': 100, 'clf__max_depth': 6, 'clf__learning_rate': 0.2}\n",
      "XGB AUC-ROC: 0.929941598647862\n",
      "XGB Accuracy: 0.8890784982935154\n",
      "Confusion Matrix:\n",
      " [[1230   61]\n",
      " [ 134  333]]\n"
     ]
    }
   ],
   "source": [
    "# XGBClassifier \n",
    "# DEfine pipeline\n",
    "xgb_pipeline = Pipeline([\n",
    "    ('preprocessor', preprocessor),\n",
    "    ('clf', XGBClassifier(eval_metric='auc', use_label_encoder=False, random_state=42))\n",
    "])\n",
    "\n",
    "# Define hyperparameter distribution\n",
    "xgb_params = {\n",
    "    'clf__n_estimators': [50, 100],\n",
    "    'clf__max_depth': [3, 6, 9],\n",
    "    'clf__learning_rate': [0.01, 0.1, 0.2],\n",
    "    'clf__subsample': [0.8, 1.0]\n",
    "}\n",
    "\n",
    "# Use RandomizedSearchCV \n",
    "xgb_search = RandomizedSearchCV(xgb_pipeline, xgb_params, scoring='roc_auc', n_iter=5, cv=3, n_jobs=-1, verbose=1)\n",
    "# Fit the randomized search\n",
    "xgb_search.fit(features_train, target_train)\n",
    "\n",
    "# Get the best estimator\n",
    "xgb_best = xgb_search.best_estimator_\n",
    "\n",
    "# Predict and evaluate\n",
    "xgb_pred = xgb_best.predict(features_test)\n",
    "xgb_proba = xgb_best.predict_proba(features_test)[:, 1]\n",
    "\n",
    "print(\"XGB Best Params:\", xgb_search.best_params_)\n",
    "print(\"XGB AUC-ROC:\", roc_auc_score(target_test, xgb_proba))\n",
    "print(\"XGB Accuracy:\", accuracy_score(target_test, xgb_pred))\n",
    "print(\"Confusion Matrix:\\n\", confusion_matrix(target_test, xgb_pred))"
   ]
  },
  {
   "cell_type": "markdown",
   "metadata": {},
   "source": [
    "An XGBoost Classifier was trained and optimized using RAndomizedSearchCV with 3-fold cross-validation across 5 hyperparameter combinations, resulting in a total of 15 fits.\n",
    "Best Hyperparameters:\n",
    "- Subsample: 0.8 (fraction of observations to use for each boosting round, helps prevent overfitting)\n",
    "- Number of Estimators (n_estimators): 100\n",
    "- Maximum Tree Depth (max_depth): 6\n",
    "- Learning Rate: 0.2\n",
    "\n",
    "Test Set Performance:\n",
    "- AUC-ROC Score of 0.930 indicates excellent discriminative ability between churn and non-churn classes.\n",
    "- Accuracy Score of 0.889 means that the model correctly classified approximately 88.9% of the test set instances.\n",
    "- The confusion matrix shows that\n",
    "\n",
    "      - True Negatives (TN): 1230 non-churners correctly predicted\n",
    "      - False Positives (FP): 61 non-churners incorrectly predicted as churners\n",
    "      - False Negatives (FN): 134 churners missed by the model\n",
    "      - True Positives (TP): 333 churners correctly identified"
   ]
  },
  {
   "cell_type": "code",
   "execution_count": 65,
   "metadata": {},
   "outputs": [
    {
     "name": "stdout",
     "output_type": "stream",
     "text": [
      "Fitting 5 folds for each of 10 candidates, totalling 50 fits\n",
      "CatBoost Best Params: {'learning_rate': 0.1, 'l2_leaf_reg': 1, 'iterations': 300, 'depth': 4}\n",
      "CatBoost AUC-ROC: 0.9264451473468933\n",
      "CatBoost Accuracy: 0.8845278725824801\n",
      "Confusion Matrix:\n",
      " [[1236   55]\n",
      " [ 148  319]]\n"
     ]
    }
   ],
   "source": [
    "#CatBoost Model\n",
    "#Identify the index positions for the categorical features\n",
    "cat_features_idx = [features.columns.get_loc(col) for col in categorical]\n",
    "\n",
    "#Define model\n",
    "cat_model = CatBoostClassifier(verbose=0, random_state=42)\n",
    "\n",
    "\n",
    "# Define hyperparameter distribution\n",
    "cat_params = {\n",
    "    'depth': [4, 6, 8],\n",
    "    'iterations': [100, 300],\n",
    "    'learning_rate': [0.03, 0.1],\n",
    "    'l2_leaf_reg': [1, 3, 5]\n",
    "}\n",
    "\n",
    "# Use RandomizedSearchCV \n",
    "cat_search = RandomizedSearchCV(cat_model, cat_params, scoring='roc_auc', n_iter=10, cv=5, n_jobs=-1, verbose=1)\n",
    "# Fit the randomized search\n",
    "cat_search.fit(features_train, target_train, cat_features=cat_features_idx)\n",
    "\n",
    "# Get the best estimator\n",
    "cat_best = cat_search.best_estimator_\n",
    "\n",
    "# Predict and evaluate\n",
    "cat_pred = cat_best.predict(features_test)\n",
    "cat_proba = cat_best.predict_proba(features_test)[:, 1]\n",
    "\n",
    "print(\"CatBoost Best Params:\", cat_search.best_params_)\n",
    "print(\"CatBoost AUC-ROC:\", roc_auc_score(target_test, cat_proba))\n",
    "print(\"CatBoost Accuracy:\", accuracy_score(target_test, cat_pred))\n",
    "print(\"Confusion Matrix:\\n\", confusion_matrix(target_test, cat_pred))"
   ]
  },
  {
   "cell_type": "markdown",
   "metadata": {},
   "source": [
    "The CatBoost Classifier was optimized using RandomizedSearchCV with 5-fold cross-validation, evaluating 10 different hyperparameter combinations for a total of 50 fits.\n",
    "Best Hyperparameters:\n",
    "- Learning Rate: 0.1\n",
    "- L2 Leaf Regularization (l2_leaf_reg): 1 (regularization to reduce overfitting)\n",
    "- Number of Iterations: 300 \n",
    "- Tree Depth: 4\n",
    "\n",
    "Test Set Performance:\n",
    "- AUC-ROC Score of 0.926 indicates excellent capability in distinguishing between churners and non-churners.\n",
    "- Accuracy Score of 0.885 means approximately 88.5% of instances were correctly classified in the test set.\n",
    "- The confusion matrix shows that\n",
    "\n",
    "      - True Negatives (TN): 1236 non-churners correctly predicted\n",
    "      - False Positives (FP): 55 non-churners incorrectly predicted as churners\n",
    "      - False Negatives (FN): 148 churners missed by the model\n",
    "      - True Positives (TP): 319 churners correctly identified"
   ]
  },
  {
   "cell_type": "code",
   "execution_count": 66,
   "metadata": {},
   "outputs": [
    {
     "name": "stdout",
     "output_type": "stream",
     "text": [
      "Fitting 5 folds for each of 10 candidates, totalling 50 fits\n",
      "LightGBM Best Params: {'clf__num_leaves': 50, 'clf__n_estimators': 300, 'clf__max_depth': 5, 'clf__learning_rate': 0.1}\n",
      "LightGBM AUC-ROC: 0.931941940331433\n",
      "LightGBM Accuracy: 0.8964732650739476\n",
      "Confusion Matrix:\n",
      " [[1238   53]\n",
      " [ 129  338]]\n"
     ]
    }
   ],
   "source": [
    "#LGBMClassifier\n",
    "#Define pipeline\n",
    "lgb_pipeline = Pipeline([\n",
    "    ('preprocessor', preprocessor),\n",
    "    ('clf', lgb.LGBMClassifier(random_state=42))\n",
    "])\n",
    "\n",
    "\n",
    "# Define hyperparameter distribution\n",
    "lgb_params = {\n",
    "    'clf__n_estimators': [100, 300],\n",
    "    'clf__max_depth': [5, 10, -1],\n",
    "    'clf__learning_rate': [0.01, 0.05, 0.1],\n",
    "    'clf__num_leaves': [31, 50, 100]\n",
    "}\n",
    "\n",
    "# Use RandomizedSearchCV \n",
    "lgb_search = RandomizedSearchCV(lgb_pipeline, lgb_params, scoring='roc_auc', n_iter=10, cv=5, n_jobs=-1, verbose=1)\n",
    "# Fit the randomized search\n",
    "lgb_search.fit(features_train, target_train)\n",
    "\n",
    "# Get the best estimator\n",
    "lgb_best = lgb_search.best_estimator_\n",
    "\n",
    "# Predict and evaluate\n",
    "lgb_pred = lgb_best.predict(features_test)\n",
    "lgb_proba = lgb_best.predict_proba(features_test)[:, 1]\n",
    "\n",
    "print(\"LightGBM Best Params:\", lgb_search.best_params_)\n",
    "print(\"LightGBM AUC-ROC:\", roc_auc_score(target_test, lgb_proba))\n",
    "print(\"LightGBM Accuracy:\", accuracy_score(target_test, lgb_pred))\n",
    "print(\"Confusion Matrix:\\n\", confusion_matrix(target_test, lgb_pred))"
   ]
  },
  {
   "cell_type": "markdown",
   "metadata": {},
   "source": [
    "The LightGBM Classifier was tuned using RandomizedSearchCV with 5-fold cross-validation, evaluating 10 different hyperparameter combinations (totaling 50 fits). LightGBM is known for its speed and high performance, especially on large datasets.\n",
    "Best Hyperparameters:\n",
    "- Number of Leaves: 50 (controls the complexity of each tree)\n",
    "- Number of Estimators (n_estimators): 300\n",
    "- Maximum Depth: 5\n",
    "- Learning Rate: 0.1\n",
    "\n",
    "Test Set Performance:\n",
    "- AUC-ROC Score of 0.932 indicates excellent discrimination between churners and non-churners.\n",
    "- Accuracy Score of 0.896 implies the model correctly classified nearly 90% of test instances.\n",
    "- - The confusion matrix shows that\n",
    "\n",
    "      - True Negatives (TN): 1238 non-churners correctly predicted\n",
    "      - False Positives (FP): 53 non-churners incorrectly predicted as churners\n",
    "      - False Negatives (FN): 129 churners missed by the model\n",
    "      - True Positives (TP): 338 churners correctly identified"
   ]
  },
  {
   "cell_type": "markdown",
   "metadata": {},
   "source": [
    "## Model Interpretation\n",
    "\n",
    "Objective: \n",
    "\n",
    "- Evaluvate different models and choose the model which obtain higher AUC ROC"
   ]
  },
  {
   "cell_type": "code",
   "execution_count": 67,
   "metadata": {},
   "outputs": [
    {
     "data": {
      "text/html": [
       "<div>\n",
       "<style scoped>\n",
       "    .dataframe tbody tr th:only-of-type {\n",
       "        vertical-align: middle;\n",
       "    }\n",
       "\n",
       "    .dataframe tbody tr th {\n",
       "        vertical-align: top;\n",
       "    }\n",
       "\n",
       "    .dataframe thead th {\n",
       "        text-align: right;\n",
       "    }\n",
       "</style>\n",
       "<table border=\"1\" class=\"dataframe\">\n",
       "  <thead>\n",
       "    <tr style=\"text-align: right;\">\n",
       "      <th></th>\n",
       "      <th>Model</th>\n",
       "      <th>AUC-ROC</th>\n",
       "      <th>Accuracy</th>\n",
       "    </tr>\n",
       "  </thead>\n",
       "  <tbody>\n",
       "    <tr>\n",
       "      <th>5</th>\n",
       "      <td>LightGBM</td>\n",
       "      <td>0.931942</td>\n",
       "      <td>0.896473</td>\n",
       "    </tr>\n",
       "    <tr>\n",
       "      <th>3</th>\n",
       "      <td>XGBoost</td>\n",
       "      <td>0.929942</td>\n",
       "      <td>0.889078</td>\n",
       "    </tr>\n",
       "    <tr>\n",
       "      <th>4</th>\n",
       "      <td>CatBoost</td>\n",
       "      <td>0.926445</td>\n",
       "      <td>0.884528</td>\n",
       "    </tr>\n",
       "    <tr>\n",
       "      <th>1</th>\n",
       "      <td>Decision Tree</td>\n",
       "      <td>0.861139</td>\n",
       "      <td>0.819113</td>\n",
       "    </tr>\n",
       "    <tr>\n",
       "      <th>2</th>\n",
       "      <td>Random Forest</td>\n",
       "      <td>0.856675</td>\n",
       "      <td>0.812287</td>\n",
       "    </tr>\n",
       "    <tr>\n",
       "      <th>0</th>\n",
       "      <td>Logistic Regressioin</td>\n",
       "      <td>0.830799</td>\n",
       "      <td>0.799772</td>\n",
       "    </tr>\n",
       "  </tbody>\n",
       "</table>\n",
       "</div>"
      ],
      "text/plain": [
       "                  Model   AUC-ROC  Accuracy\n",
       "5              LightGBM  0.931942  0.896473\n",
       "3               XGBoost  0.929942  0.889078\n",
       "4              CatBoost  0.926445  0.884528\n",
       "1         Decision Tree  0.861139  0.819113\n",
       "2         Random Forest  0.856675  0.812287\n",
       "0  Logistic Regressioin  0.830799  0.799772"
      ]
     },
     "execution_count": 67,
     "metadata": {},
     "output_type": "execute_result"
    }
   ],
   "source": [
    "#Compare results\n",
    "results = {\n",
    "    \"Model\": [\"Logistic Regressioin\", \"Decision Tree\", \"Random Forest\", \"XGBoost\", \"CatBoost\", \"LightGBM\"],\n",
    "    \"AUC-ROC\": [\n",
    "        roc_auc_score(target_test, lr_proba),\n",
    "        roc_auc_score(target_test, dt_proba),\n",
    "        roc_auc_score(target_test, rf_proba),\n",
    "        roc_auc_score(target_test, xgb_proba),\n",
    "        roc_auc_score(target_test, cat_proba),\n",
    "        roc_auc_score(target_test, lgb_proba)\n",
    "    ],\n",
    "    \"Accuracy\": [\n",
    "        accuracy_score(target_test, lr_pred),\n",
    "        accuracy_score(target_test, dt_pred),\n",
    "        accuracy_score(target_test, rf_pred),\n",
    "        accuracy_score(target_test, xgb_pred),\n",
    "        accuracy_score(target_test, cat_pred),\n",
    "        accuracy_score(target_test, lgb_pred)\n",
    "    ]\n",
    "}\n",
    "\n",
    "pd.DataFrame(results).sort_values(by='AUC-ROC', ascending=False)"
   ]
  },
  {
   "cell_type": "code",
   "execution_count": 68,
   "metadata": {},
   "outputs": [
    {
     "data": {
      "image/png": "[encoded data removed]",
      "text/plain": [
       "<Figure size 1000x700 with 1 Axes>"
      ]
     },
     "metadata": {},
     "output_type": "display_data"
    }
   ],
   "source": [
    "# AUC-ROC curve\n",
    "# Get FPR, TPR for each model\n",
    "fpr_log, tpr_log, _ = roc_curve(target_test, lr_proba)\n",
    "fpr_dt, tpr_dt, _ = roc_curve(target_test, dt_proba)\n",
    "fpr_rf, tpr_rf, _ = roc_curve(target_test, rf_proba)\n",
    "fpr_xgb, tpr_xgb, _ = roc_curve(target_test, xgb_proba)\n",
    "fpr_cat, tpr_cat, _ = roc_curve(target_test, cat_proba)\n",
    "fpr_lgb, tpr_lgb, _ = roc_curve(target_test, lgb_proba)\n",
    "\n",
    "# Plot\n",
    "plt.figure(figsize=(10, 7))\n",
    "plt.plot(fpr_log, tpr_log, label=f\"Logistic Regression (AUC = {roc_auc_score(target_test, lr_proba):.3f})\")\n",
    "plt.plot(fpr_dt, tpr_dt, label=f\"Decision Tree (AUC = {roc_auc_score(target_test, dt_proba):.3f})\")\n",
    "plt.plot(fpr_rf, tpr_rf, label=f\"Random Forest (AUC = {roc_auc_score(target_test, rf_proba):.3f})\")\n",
    "plt.plot(fpr_xgb, tpr_xgb, label=f\"XGBoost (AUC = {roc_auc_score(target_test, xgb_proba):.3f})\")\n",
    "plt.plot(fpr_cat, tpr_cat, label=f\"CatBoost (AUC = {roc_auc_score(target_test, cat_proba):.3f})\")\n",
    "plt.plot(fpr_lgb, tpr_lgb, label=f\"LightGBM (AUC = {roc_auc_score(target_test, lgb_proba):.3f})\")\n",
    "\n",
    "# Diagonal line for reference\n",
    "plt.plot([0, 1], [0, 1], 'k--', lw=2)\n",
    "\n",
    "# Plot formatting\n",
    "plt.title('AUC-ROC Curve Comparison')\n",
    "plt.xlabel('False Positive Rate')\n",
    "plt.ylabel('True Positive Rate')\n",
    "plt.legend(loc='lower right')\n",
    "plt.grid(True)\n",
    "plt.tight_layout()\n",
    "plt.show()"
   ]
  },
  {
   "cell_type": "markdown",
   "metadata": {},
   "source": [
    "A variety of classification models were evaluated for their performance in predicting customer churn. The models were assessed using two key metrics: AUC-ROC (which measures the model's ability to distinguish between churn and non-churn classes) and Accuracy (the overall proportion of correctly classified instances). \n",
    "- LightGBM achieved the highest performance across both metrics, making it the top-performing model in this study.\n",
    "- XGBoost and CatBoost also delivered excellent results, with AUC-ROC scores above 0.92 and accuracy above 88%, showing strong ability to generalize and capture patterns in the data.\n",
    "- The Decision Tree and Random Forest models provided moderate performance, while still significantly outperforming a baseline model.\n",
    "- Logistic Regression, while simple and interpretable, had the lowest scores, though it remains a strong benchmark model.\n",
    "\n",
    "The AUC-ROC (Area Under the Receiver Operating Characteristic Curve) is a performance measurement for classification problems at various threshold settings. The ROC curve plots the True Positive Rate (Recall) against the False Positive Rate. The closer the ROC curve is to the top-left corner, the better the model is at correctly classifying positive and negative instances.\n",
    "- LightGBM had the highest AUC (0.932), with its ROC curve closest to the top-left corner, indicating superior classification capability across different thresholds.\n",
    "- XGBoost and CatBoost followed closely with AUC values of 0.930 and 0.926, respectively, also demonstrating excellent class separation.\n",
    "\n",
    "From the above analysis, LightGBM is  best suited for this churn prediction task, offering both high accuracy and strong class separation (as indicated by AUC-ROC). Given its top scores and efficiency, LightGBM is recommended for deployment in a production environment.\n"
   ]
  },
  {
   "cell_type": "markdown",
   "metadata": {},
   "source": [
    "<div class=\"alert alert-block alert-suc\">\n",
    "<b>Reviewer's comment</b> Very nice job here! Excellent job on this and congratulations. \n",
    "<a class=\"tocSkip\"></\n"
   ]
  },
  {
   "cell_type": "markdown",
   "metadata": {},
   "source": [
    "# Conclusion:\n",
    "The goal of this project was to build a machine learning model capable of predicting customer churn for a telecom company. This helps in proactive customer retention strategies by identifying customers at risk of leaving the service.\n",
    "\n",
    "The dataset was loaded and  gain an initial overview of the dataset, assess its structure and quality, and identify important patterns and potential issues. \n",
    "Before modeling, several important data preprocessing steps were performed to ensure data consistency, quality, and readiness for analysis:\n",
    "\n",
    "- Merging Datasets: Multiple datasets were merged using the common identifier Customer ID, creating a unified dataset containing demographic, account, and service-related attributes for each customer.\n",
    "- Handling Missing Values\n",
    "- Type Conversions\n",
    "- Define target variable: The target variable churn was defined as a binary classification outcome:\n",
    "     - Churn = 1 for customers who discontinued the service\n",
    "     - Churn = 0 for customers who remained\n",
    "This binary target enabled the use of supervised classification algorithms for churn prediction.\n",
    "These preparation steps were essential for ensuring data integrity and compatibility with machine learning algorithms. They also helped mitigate data quality issues that could impact model accuracy and reliability.\n",
    "\n",
    "The EDA phase provided valuable  statistical insights into churn behavior:\n",
    "- Churn Rate: ~26.58% of customers in the dataset have churned, indicating a moderate class imbalance. This imbalance was considered during modeling via class weighting and careful metric selection (e.g., AUC-ROC).\n",
    "- Customer Demographics:\n",
    "     - Senior citizens show notably higher churn across both genders.\n",
    "     - Gender, however, does not significantly influence churn.\n",
    "- Contract Type:\n",
    "     - Month-to-month contracts exhibit the highest churn rate (42.7%).\n",
    "     - In contrast, two-year contracts have a very low churn rate (2.8%), implying that longer-term customers are more likely to stay.\n",
    "- Payment Methods:\n",
    "     - Customers using electronic checks have the highest churn rate (45.3%).\n",
    "     - Automatic payments (via bank transfer or credit card) correlate with significantly lower churn (15–20%), indicating financial convenience and automation reduce churn.\n",
    "- Services\n",
    "    - Lack of online security, tech support, and online backup is linked to higher churn. These services appear to have a retention effect, suggesting they increase customer stickiness.\n",
    "- Charges and Tenure:\n",
    "    - Churned customers tend to have lower total charges, likely due to shorter tenure.\n",
    "    - Monthly charges are higher among churned customers, possibly due to being on month-to-month plans with more expensive add-ons.\n",
    "\n",
    "Multiple machine learning models were trained, optimized, and evaluated using metrics focused on performance and class separation. \n",
    "\n",
    "- LightGBM outperformed all other models in both AUC-ROC and accuracy, making it the top choice for deployment.\n",
    "- XGBoost and CatBoost also delivered strong performance, with AUC-ROC values above 0.92, showing excellent discrimination between churn and non-churn classes.\n",
    "- Logistic regression, while less accurate, provided a valuable baseline and interpretability.\n",
    "\n",
    "The LightGBM model demonstrated the best overall performance and is recommended for deployment to support churn mitigation strategies."
   ]
  },
  {
   "cell_type": "code",
   "execution_count": null,
   "metadata": {},
   "outputs": [],
   "source": []
  }
 ],
 "metadata": {
  "kernelspec": {
   "display_name": "Python 3 (ipykernel)",
   "language": "python",
   "name": "python3"
  },
  "language_info": {
   "codemirror_mode": {
    "name": "ipython",
    "version": 3
   },
   "file_extension": ".py",
   "mimetype": "text/x-python",
   "name": "python",
   "nbconvert_exporter": "python",
   "pygments_lexer": "ipython3",
   "version": "3.9.22"
  }
 },
 "nbformat": 4,
 "nbformat_minor": 4
}
