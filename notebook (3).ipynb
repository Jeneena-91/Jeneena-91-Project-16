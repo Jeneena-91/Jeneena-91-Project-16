{
 "cells": [
  {
   "cell_type": "markdown",
   "metadata": {},
   "source": [
    "# *Final Report:*"
   ]
  },
  {
   "cell_type": "markdown",
   "metadata": {},
   "source": [
    "# Client Churn Prediction for Interconnect Telecom"
   ]
  },
  {
   "cell_type": "markdown",
   "metadata": {},
   "source": [
    "## Introduction :\n",
    "The telecom operator Interconnect would like to be able to forecast their churn of clients. If it's discovered that a user is planning to leave, they will be offered promotional codes and special plan options. Interconnect's marketing team has collected some of their clientele's personal data, including information about their plans and contracts.\n",
    "\n",
    "Interconnect mainly provides two types of services:\n",
    "\n",
    "- Landline communication - The telephone can be connected to several lines simultaneously.\n",
    "- Internet - The network can be set up via a telephone line (DSL, digital subscriber line) or through a fiber optic cable.\n",
    "- Some other services the company provides include:\n",
    "  \n",
    "        - Internet security: antivirus software (DeviceProtection) and a malicious website blocker (OnlineSecurity)\n",
    "        - A dedicated technical support line (TechSupport)\n",
    "        - Cloud file storage and data backup (OnlineBackup)\n",
    "        - TV streaming (StreamingTV) and a movie directory (StreamingMovies)\n",
    "\n",
    "The clients can choose either a monthly payment or sign a 1- or 2-year contract. They can use various payment methods and receive an electronic invoice after a transaction.\n",
    "\n",
    "## Business Problem Statement :\n",
    "Interconnect wants to forecast the client churn.\n",
    "\n",
    "## Business Value :\n",
    "Interconnect wants to forecast client churn in order to proactively retain customers by offering promotions or customized plans."
   ]
  },
  {
   "cell_type": "markdown",
   "metadata": {},
   "source": [
    "## Data Overview :\n",
    "The dataset included a comprehensive view of customer attributes:\n",
    "- Demographics (e.g., age, senior citizen status, gender)\n",
    "- Contract details (e.g., begin date, end date,  payment method, contract type)\n",
    "- Services used (e.g., internet, tech support, device protection)\n",
    "- Multiple line connections\n",
    "All datasets were merged on CustomerID to create a unified customer-level dataset."
   ]
  },
  {
   "cell_type": "markdown",
   "metadata": {},
   "source": [
    "## Completed vs Skipped Steps\n",
    "\n",
    "### Completed Steps\n",
    "- Data collection and merging: All datasets merged using CustomerID.\n",
    "- Data preprocessing:\n",
    "      - Missing values handled\n",
    "      - Corrected data types\n",
    "      - Converted column names to snake_case\n",
    "- EDA (Exploratory Data Analysis):\n",
    "      - Churn vs. non-churn analysis\n",
    "      - Demographics, services, payment method trends\n",
    "      - Class imbalance identified\n",
    "- Feature Engineering:\n",
    "      - One-hot encoding for categorical features\n",
    "      - Normalization for numeric features\n",
    "- Model Training:\n",
    "      - Logistic Regression (baseline)\n",
    "      - Tree-based models:Decision Tree,  Random Forest, XGBoost, CatBoost, and LightGBM\n",
    "- Model Evaluation: AUC-ROC and accuracy\n",
    "- Model Interpretation & Deployment Recommendation\n",
    "\n",
    "### Skipped or Adjusted Steps:\n",
    "Outlier handling: Outliers were reviewed, but given the nature of business metrics (e.g., high charges for long-tenured customers), no extreme values were removed as they reflected genuine variability.\n",
    "\n"
   ]
  },
  {
   "cell_type": "markdown",
   "metadata": {},
   "source": [
    "## Difficulties Encountered and Resolutions\n",
    "|Challenge|\tResolution|\n",
    "|---------|------------|\n",
    "|Missing or inconsistent data (e.g., TotalCharges as object)|\tConverted to numeric after identifying and handling blanks|\n",
    "|Class imbalance (26.6% churn rate)|\tUsed class weighting in models and focused on AUC-ROC metric|\n",
    "|Overfitting in complex models|\tUsed cross-validation and hyper parameter tuning to improve generalization|\n",
    "|Time consumption during training and tuning|Particularly with ensemble models (XGBoost, CatBoost) solved by reducing cv, n_iter, n_jobs=-1 in  tuning parameters|"
   ]
  },
  {
   "cell_type": "markdown",
   "metadata": {},
   "source": [
    "##  Key Steps That Solved the Task\n",
    "### Data Preprocessing\n",
    "- Merging datasets: Unified customer-level data was created by merging multiple files on CustomerID.\n",
    "- Data Cleaning:\n",
    "      - Missing values handled appropriately.\n",
    "      - Converted data types (e.g., numeric conversion for charges, datetime to end and begin date).\n",
    "      - Standardized column names to snake_case for consistency.\n",
    "- Target variable: Defined as:\n",
    "    -  churn = 1 for customers who discontinued the service\n",
    "    -  churn = 0 for customers who remained This binary target enabled the use of supervised classification algorithms for churn prediction. "
   ]
  },
  {
   "cell_type": "markdown",
   "metadata": {},
   "source": [
    "## Exploratory Data Analysis (EDA)\n",
    "- Approximately 26.58% of customers have churned, confirming a moderate class imbalance, with churn being the minority class.This imbalance should be addressed during modeling (e.g., using class weights or resampling).\n",
    "- Senior citizens have a higher churn rate across both genders.\n",
    "- Gender alone does not show significant difference in churn behavior.\n",
    "- Month-to-month contracts have the highest churn rate (42.7%), while two-year contracts have the lowest (2.8%), indicating longer commitments reduce churn.\n",
    "- Electronic check users have the highest churn (45.3%), while automatic payments (bank transfer/credit card) are linked with much lower churn rates (15–20%).\n",
    "- Customers not subscribed to online security, tech support, or online backup are more likely to churn, suggesting these services contribute to retention.\n",
    "- The median total charges for churned customers is significantly lower than for those who stayed.\n",
    "- Median monthly charges are higher for churned customers."
   ]
  },
  {
   "cell_type": "markdown",
   "metadata": {},
   "source": [
    "## Feature Engineering\n",
    "\n",
    "- Feature extraction\n",
    "- Encoding categorical variables- One Hot Encoding\n",
    "- Normalize/Scale numerical features"
   ]
  },
  {
   "cell_type": "markdown",
   "metadata": {},
   "source": [
    "## Model selection and tuning: \n",
    "Trying multiple models and focusing on AUC-ROC guided us to a high-performing solution.\n",
    "* Logistic Regression(Sanity check)\n",
    "* Decision Tree Classifier\n",
    "* Random Forest Classifier\n",
    "* XGBClassifier\n",
    "* CatBoostClassifier\n",
    "* LightGBM Classifier\n",
    "\n",
    "### Results:\n",
    "|Model|\tAUC-ROC|\tAccuracy|\n",
    "|-----|-----|------|\n",
    "|LightGBM|\t0.931942|\t0.896473|\n",
    "|XGBoost|\t0.929942|\t0.889078|\n",
    "|CatBoost|\t0.926445|\t0.884528|\n",
    "|Decision Tree|\t0.861139|\t0.819113|\n",
    "|Random Forest|\t0.856675|\t0.812287|\n",
    "|Logistic Regressioin|\t0.830799|\t0.799772|\n",
    "\n",
    "- LightGBM outperformed all other models in both AUC-ROC and accuracy, making it the top choice for deployment.\n",
    "- XGBoost and CatBoost also delivered strong performance, with AUC-ROC values above 0.92, showing excellent discrimination between churn and non-churn classes.\n",
    "- Logistic regression, while less accurate, provided a valuable baseline and interpretability."
   ]
  },
  {
   "cell_type": "markdown",
   "metadata": {},
   "source": [
    "### Final Model and Evaluation\n",
    "\n",
    "#### Final Model: LightGBM (Light Gradient Boosting Machine)\n",
    "The LightGBM model demonstrated the best overall performance and is recommended for deployment to support churn mitigation strategies.\n",
    "\n",
    "Test Set Performance:\n",
    "- AUC-ROC Score of 0.932 indicates excellent discrimination between churners and non-churners.\n",
    "- Accuracy Score of 0.896 implies the model correctly classified nearly 90% of test instances.\n",
    "- The confusion matrix shows that\n",
    "\n",
    "      - True Negatives (TN): 1238 non-churners correctly predicted\n",
    "      - False Positives (FP): 53 non-churners incorrectly predicted as churners\n",
    "      - False Negatives (FN): 129 churners missed by the model\n",
    "      - True Positives (TP): 338 churners correctly identified"
   ]
  },
  {
   "cell_type": "markdown",
   "metadata": {},
   "source": [
    "### Strategic Recommendations\n",
    "- Encourage long-term contracts through onboarding promotions.\n",
    "- Offer bundled services (e.g., tech support, online backup) as value-adds.\n",
    "- Promote automatic payments for ease and retention.\n",
    "- Monitor newly onboarded clients closely for the first few months (early churn window)."
   ]
  },
  {
   "cell_type": "markdown",
   "metadata": {},
   "source": [
    "### Conclusion\n",
    "This project successfully developed a robust churn prediction model for Interconnect. With LightGBM achieving over 93% AUC-ROC, the company can now effectively target at-risk customers and improve retention rates through informed, data-driven marketing strategies.\n",
    "\n"
   ]
  },
  {
   "cell_type": "markdown",
   "metadata": {},
   "source": [
    "<div class=\"alert alert-block alert-success\">\n",
    "<b>Reviewer's comment</b> Very nice report! Congratulations!\n",
    "<a class=\"tocSkip\"></a>"
   ]
  },
  {
   "cell_type": "code",
   "execution_count": null,
   "metadata": {},
   "outputs": [],
   "source": []
  }
 ],
 "metadata": {
  "kernelspec": {
   "display_name": "Python 3 (ipykernel)",
   "language": "python",
   "name": "python3"
  },
  "language_info": {
   "codemirror_mode": {
    "name": "ipython",
    "version": 3
   },
   "file_extension": ".py",
   "mimetype": "text/x-python",
   "name": "python",
   "nbconvert_exporter": "python",
   "pygments_lexer": "ipython3",
   "version": "3.9.23"
  }
 },
 "nbformat": 4,
 "nbformat_minor": 4
}
